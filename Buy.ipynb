{
  "cells": [
    {
      "cell_type": "markdown",
      "metadata": {
        "id": "view-in-github",
        "colab_type": "text"
      },
      "source": [
        "<a href=\"https://colab.research.google.com/github/Muromoto/michaelshannon/blob/master/Buy.ipynb\" target=\"_parent\"><img src=\"https://colab.research.google.com/assets/colab-badge.svg\" alt=\"Open In Colab\"/></a>"
      ]
    },
    {
      "cell_type": "code",
      "execution_count": null,
      "metadata": {
        "id": "dVWYwwsEDv5A"
      },
      "outputs": [],
      "source": [
        "# !pip install twilio\n",
        "# from twilio.rest import Client\n",
        "\n",
        "from google.colab import auth # Remove when migrated\n",
        "auth.authenticate_user() # Remove when migrated\n",
        "\n",
        "from bs4 import BeautifulSoup\n",
        "import requests\n",
        "import lxml\n",
        "import string\n",
        "import pandas as pd\n",
        "import time\n",
        "import gspread\n",
        "import json\n",
        "import numpy as np\n",
        "from datetime import datetime as dt, date, timedelta\n",
        "from fractions import Fraction\n",
        "\n",
        "from google.auth import default # Remove when migrated\n",
        "creds, _ = default() # Remove when migrated\n",
        "gc = gspread.authorize(creds) # Remove when migrated"
      ]
    },
    {
      "cell_type": "code",
      "execution_count": null,
      "metadata": {
        "colab": {
          "base_uri": "https://localhost:8080/"
        },
        "collapsed": true,
        "id": "wB6zlXmXFchk",
        "outputId": "f646374e-df5c-467a-dd8c-8f1b563b2a25"
      },
      "outputs": [
        {
          "output_type": "stream",
          "name": "stderr",
          "text": [
            "<ipython-input-7-6584a1e8cf52>:43: FutureWarning: Downcasting behavior in `replace` is deprecated and will be removed in a future version. To retain the old behavior, explicitly call `result.infer_objects(copy=False)`. To opt-in to the future behavior, set `pd.set_option('future.no_silent_downcasting', True)`\n",
            "  'Deku Min Price','Current Highest Discount %']].replace('',float(np.nan))\n"
          ]
        },
        {
          "output_type": "stream",
          "name": "stdout",
          "text": [
            "198X\n",
            "33 Immortals\n"
          ]
        },
        {
          "output_type": "stream",
          "name": "stderr",
          "text": [
            "<ipython-input-7-6584a1e8cf52>:440: FutureWarning: The behavior of Series.idxmin with all-NA values, or any-NA and skipna=False, is deprecated. In a future version this will raise ValueError\n",
            "  plat = pd.to_numeric(df.loc[i, 'Steam Price' : 'XBOX Price']).idxmin()\n",
            "<ipython-input-7-6584a1e8cf52>:484: FutureWarning: The behavior of Series.idxmin with all-NA values, or any-NA and skipna=False, is deprecated. In a future version this will raise ValueError\n",
            "  min = pd.to_numeric(df.loc[i, 'Steam Min Price' : 'XBOX Min Price']).idxmin()\n"
          ]
        },
        {
          "output_type": "stream",
          "name": "stdout",
          "text": [
            "80 Days\n",
            "9 Monkeys of Shaolin + Ash of Gods + Redeemer: Bundle\n",
            "A Frog's Tale\n"
          ]
        },
        {
          "output_type": "stream",
          "name": "stderr",
          "text": [
            "<ipython-input-7-6584a1e8cf52>:440: FutureWarning: The behavior of Series.idxmin with all-NA values, or any-NA and skipna=False, is deprecated. In a future version this will raise ValueError\n",
            "  plat = pd.to_numeric(df.loc[i, 'Steam Price' : 'XBOX Price']).idxmin()\n",
            "<ipython-input-7-6584a1e8cf52>:484: FutureWarning: The behavior of Series.idxmin with all-NA values, or any-NA and skipna=False, is deprecated. In a future version this will raise ValueError\n",
            "  min = pd.to_numeric(df.loc[i, 'Steam Min Price' : 'XBOX Min Price']).idxmin()\n"
          ]
        },
        {
          "output_type": "stream",
          "name": "stdout",
          "text": [
            "A Guidebook of Babel\n",
            "A Highland Song\n",
            "A Memoir Blue\n",
            "A Plague Tale: Requiem\n",
            "A Space for the Unbound\n",
            "Abyssals\n"
          ]
        },
        {
          "output_type": "stream",
          "name": "stderr",
          "text": [
            "<ipython-input-7-6584a1e8cf52>:440: FutureWarning: The behavior of Series.idxmin with all-NA values, or any-NA and skipna=False, is deprecated. In a future version this will raise ValueError\n",
            "  plat = pd.to_numeric(df.loc[i, 'Steam Price' : 'XBOX Price']).idxmin()\n",
            "<ipython-input-7-6584a1e8cf52>:484: FutureWarning: The behavior of Series.idxmin with all-NA values, or any-NA and skipna=False, is deprecated. In a future version this will raise ValueError\n",
            "  min = pd.to_numeric(df.loc[i, 'Steam Min Price' : 'XBOX Min Price']).idxmin()\n"
          ]
        },
        {
          "output_type": "stream",
          "name": "stdout",
          "text": [
            "Aces & Adventures\n",
            "Aethermancer\n"
          ]
        },
        {
          "output_type": "stream",
          "name": "stderr",
          "text": [
            "<ipython-input-7-6584a1e8cf52>:440: FutureWarning: The behavior of Series.idxmin with all-NA values, or any-NA and skipna=False, is deprecated. In a future version this will raise ValueError\n",
            "  plat = pd.to_numeric(df.loc[i, 'Steam Price' : 'XBOX Price']).idxmin()\n",
            "<ipython-input-7-6584a1e8cf52>:484: FutureWarning: The behavior of Series.idxmin with all-NA values, or any-NA and skipna=False, is deprecated. In a future version this will raise ValueError\n",
            "  min = pd.to_numeric(df.loc[i, 'Steam Min Price' : 'XBOX Min Price']).idxmin()\n"
          ]
        },
        {
          "output_type": "stream",
          "name": "stdout",
          "text": [
            "Afterdream\n",
            "Against the Storm\n",
            "Agatha Christie - Murder on the Orient Express\n"
          ]
        },
        {
          "output_type": "stream",
          "name": "stderr",
          "text": [
            "<ipython-input-7-6584a1e8cf52>:448: FutureWarning: Setting an item of incompatible dtype is deprecated and will raise an error in a future version of pandas. Value '' has dtype incompatible with float64, please explicitly cast to a compatible dtype first.\n",
            "  df.at[i, 'Current Highest Discount %'] = df.loc[i][df.loc[i]['Current Lowest Price System'] + ' Discount']\n"
          ]
        },
        {
          "output_type": "stream",
          "name": "stdout",
          "text": [
            "Age of Wonders 4\n",
            "Agent A: A puzzle in disguise\n",
            "ALZARA Radiant Echoes\n"
          ]
        },
        {
          "output_type": "stream",
          "name": "stderr",
          "text": [
            "<ipython-input-7-6584a1e8cf52>:440: FutureWarning: The behavior of Series.idxmin with all-NA values, or any-NA and skipna=False, is deprecated. In a future version this will raise ValueError\n",
            "  plat = pd.to_numeric(df.loc[i, 'Steam Price' : 'XBOX Price']).idxmin()\n",
            "<ipython-input-7-6584a1e8cf52>:484: FutureWarning: The behavior of Series.idxmin with all-NA values, or any-NA and skipna=False, is deprecated. In a future version this will raise ValueError\n",
            "  min = pd.to_numeric(df.loc[i, 'Steam Min Price' : 'XBOX Min Price']).idxmin()\n"
          ]
        },
        {
          "output_type": "stream",
          "name": "stdout",
          "text": [
            "American Arcadia\n",
            "Anno 1800\n",
            "Anomaly Agent\n",
            "Anomaly Collapse\n",
            "Antihero\n",
            "Apotheon\n",
            "Archaelund\n",
            "Arco\n",
            "Arisen Force: Vonimir\n"
          ]
        },
        {
          "output_type": "stream",
          "name": "stderr",
          "text": [
            "<ipython-input-7-6584a1e8cf52>:440: FutureWarning: The behavior of Series.idxmin with all-NA values, or any-NA and skipna=False, is deprecated. In a future version this will raise ValueError\n",
            "  plat = pd.to_numeric(df.loc[i, 'Steam Price' : 'XBOX Price']).idxmin()\n",
            "<ipython-input-7-6584a1e8cf52>:484: FutureWarning: The behavior of Series.idxmin with all-NA values, or any-NA and skipna=False, is deprecated. In a future version this will raise ValueError\n",
            "  min = pd.to_numeric(df.loc[i, 'Steam Min Price' : 'XBOX Min Price']).idxmin()\n"
          ]
        },
        {
          "output_type": "stream",
          "name": "stdout",
          "text": [
            "Armello\n",
            "As We Descend\n"
          ]
        },
        {
          "output_type": "stream",
          "name": "stderr",
          "text": [
            "<ipython-input-7-6584a1e8cf52>:440: FutureWarning: The behavior of Series.idxmin with all-NA values, or any-NA and skipna=False, is deprecated. In a future version this will raise ValueError\n",
            "  plat = pd.to_numeric(df.loc[i, 'Steam Price' : 'XBOX Price']).idxmin()\n",
            "<ipython-input-7-6584a1e8cf52>:484: FutureWarning: The behavior of Series.idxmin with all-NA values, or any-NA and skipna=False, is deprecated. In a future version this will raise ValueError\n",
            "  min = pd.to_numeric(df.loc[i, 'Steam Min Price' : 'XBOX Min Price']).idxmin()\n"
          ]
        },
        {
          "output_type": "stream",
          "name": "stdout",
          "text": [
            "Asterigos: Curse of the Stars\n",
            "Astrea: Six-Sided Oracles\n",
            "ATLYSS\n",
            "Aviary Attorney\n",
            "Back to the Dawn\n",
            "Backpack Battles\n",
            "Baladins\n",
            "Baldur's Gate 3\n",
            "Baltic Folk\n"
          ]
        },
        {
          "output_type": "stream",
          "name": "stderr",
          "text": [
            "<ipython-input-7-6584a1e8cf52>:440: FutureWarning: The behavior of Series.idxmin with all-NA values, or any-NA and skipna=False, is deprecated. In a future version this will raise ValueError\n",
            "  plat = pd.to_numeric(df.loc[i, 'Steam Price' : 'XBOX Price']).idxmin()\n",
            "<ipython-input-7-6584a1e8cf52>:484: FutureWarning: The behavior of Series.idxmin with all-NA values, or any-NA and skipna=False, is deprecated. In a future version this will raise ValueError\n",
            "  min = pd.to_numeric(df.loc[i, 'Steam Min Price' : 'XBOX Min Price']).idxmin()\n"
          ]
        },
        {
          "output_type": "stream",
          "name": "stdout",
          "text": [
            "Band of Crusaders\n"
          ]
        },
        {
          "output_type": "stream",
          "name": "stderr",
          "text": [
            "<ipython-input-7-6584a1e8cf52>:440: FutureWarning: The behavior of Series.idxmin with all-NA values, or any-NA and skipna=False, is deprecated. In a future version this will raise ValueError\n",
            "  plat = pd.to_numeric(df.loc[i, 'Steam Price' : 'XBOX Price']).idxmin()\n",
            "<ipython-input-7-6584a1e8cf52>:484: FutureWarning: The behavior of Series.idxmin with all-NA values, or any-NA and skipna=False, is deprecated. In a future version this will raise ValueError\n",
            "  min = pd.to_numeric(df.loc[i, 'Steam Min Price' : 'XBOX Min Price']).idxmin()\n"
          ]
        },
        {
          "output_type": "stream",
          "name": "stdout",
          "text": [
            "Banishers: Ghosts of New Eden\n",
            "Bastion\n",
            "Baten Kaitos I & II HD Remaster\n",
            "Batman: Arkham Collection\n",
            "Beacon Patrol\n"
          ]
        },
        {
          "output_type": "stream",
          "name": "stderr",
          "text": [
            "<ipython-input-7-6584a1e8cf52>:440: FutureWarning: The behavior of Series.idxmin with all-NA values, or any-NA and skipna=False, is deprecated. In a future version this will raise ValueError\n",
            "  plat = pd.to_numeric(df.loc[i, 'Steam Price' : 'XBOX Price']).idxmin()\n",
            "<ipython-input-7-6584a1e8cf52>:484: FutureWarning: The behavior of Series.idxmin with all-NA values, or any-NA and skipna=False, is deprecated. In a future version this will raise ValueError\n",
            "  min = pd.to_numeric(df.loc[i, 'Steam Min Price' : 'XBOX Min Price']).idxmin()\n"
          ]
        },
        {
          "output_type": "stream",
          "name": "stdout",
          "text": [
            "Beacon Pines\n",
            "Beastieball\n",
            "Beneath Oresa\n",
            "Betrayal At Club Low\n",
            "Big Ambitions\n",
            "Big Helmet Heroes\n"
          ]
        },
        {
          "output_type": "stream",
          "name": "stderr",
          "text": [
            "<ipython-input-7-6584a1e8cf52>:440: FutureWarning: The behavior of Series.idxmin with all-NA values, or any-NA and skipna=False, is deprecated. In a future version this will raise ValueError\n",
            "  plat = pd.to_numeric(df.loc[i, 'Steam Price' : 'XBOX Price']).idxmin()\n",
            "<ipython-input-7-6584a1e8cf52>:484: FutureWarning: The behavior of Series.idxmin with all-NA values, or any-NA and skipna=False, is deprecated. In a future version this will raise ValueError\n",
            "  min = pd.to_numeric(df.loc[i, 'Steam Min Price' : 'XBOX Min Price']).idxmin()\n"
          ]
        },
        {
          "output_type": "stream",
          "name": "stdout",
          "text": [
            "Black Myth: Wukong\n",
            "Black Skylands\n",
            "Blacksad: Under the Skin\n",
            "Bloomtown: A Different Story\n",
            "Blue Prince\n"
          ]
        },
        {
          "output_type": "stream",
          "name": "stderr",
          "text": [
            "<ipython-input-7-6584a1e8cf52>:440: FutureWarning: The behavior of Series.idxmin with all-NA values, or any-NA and skipna=False, is deprecated. In a future version this will raise ValueError\n",
            "  plat = pd.to_numeric(df.loc[i, 'Steam Price' : 'XBOX Price']).idxmin()\n",
            "<ipython-input-7-6584a1e8cf52>:484: FutureWarning: The behavior of Series.idxmin with all-NA values, or any-NA and skipna=False, is deprecated. In a future version this will raise ValueError\n",
            "  min = pd.to_numeric(df.loc[i, 'Steam Min Price' : 'XBOX Min Price']).idxmin()\n"
          ]
        },
        {
          "output_type": "stream",
          "name": "stdout",
          "text": [
            "Bomb Rush Cyberfunk\n",
            "BOOK OF HOURS\n",
            "Boomerang Fu\n",
            "Born of Bread\n",
            "Bosorka\n",
            "Braid, Anniversary Edition\n",
            "BRAVELY DEFAULT II\n",
            "BROK the InvestiGator\n",
            "Bug Fables: The Everlasting Sapling\n",
            "Bulwark: Falconeer Chronicles\n",
            "Candleman: The Complete Journey\n",
            "Captain Toad™: Treasure Tracker \n",
            "Caravan SandWitch\n",
            "Card City Nights\n",
            "Card Hog\n",
            "Card Survival: Tropical Island\n",
            "Cardboard Town\n",
            "Cart Life\n"
          ]
        },
        {
          "output_type": "stream",
          "name": "stderr",
          "text": [
            "<ipython-input-7-6584a1e8cf52>:440: FutureWarning: The behavior of Series.idxmin with all-NA values, or any-NA and skipna=False, is deprecated. In a future version this will raise ValueError\n",
            "  plat = pd.to_numeric(df.loc[i, 'Steam Price' : 'XBOX Price']).idxmin()\n",
            "<ipython-input-7-6584a1e8cf52>:484: FutureWarning: The behavior of Series.idxmin with all-NA values, or any-NA and skipna=False, is deprecated. In a future version this will raise ValueError\n",
            "  min = pd.to_numeric(df.loc[i, 'Steam Min Price' : 'XBOX Min Price']).idxmin()\n"
          ]
        },
        {
          "output_type": "stream",
          "name": "stdout",
          "text": [
            "Cassette Beasts\n",
            "Cat God Ranch\n",
            "Cat Quest III\n",
            "Cats and the Other Lives\n",
            "Cattails: Wildwood Story\n",
            "Cavern of Dreams\n",
            "Chained Echoes\n",
            "Chants of Sennaar\n",
            "Chicory: A Colorful Tale\n",
            "Choice of Robots\n",
            "Chronicon\n",
            "Chrono Ark\n",
            "Citizen Sleeper\n",
            "Clair Obscur: Expedition 33\n"
          ]
        },
        {
          "output_type": "stream",
          "name": "stderr",
          "text": [
            "<ipython-input-7-6584a1e8cf52>:440: FutureWarning: The behavior of Series.idxmin with all-NA values, or any-NA and skipna=False, is deprecated. In a future version this will raise ValueError\n",
            "  plat = pd.to_numeric(df.loc[i, 'Steam Price' : 'XBOX Price']).idxmin()\n",
            "<ipython-input-7-6584a1e8cf52>:484: FutureWarning: The behavior of Series.idxmin with all-NA values, or any-NA and skipna=False, is deprecated. In a future version this will raise ValueError\n",
            "  min = pd.to_numeric(df.loc[i, 'Steam Min Price' : 'XBOX Min Price']).idxmin()\n"
          ]
        },
        {
          "output_type": "stream",
          "name": "stdout",
          "text": [
            "Cleo - a pirate's tale\n",
            "clickyland\n",
            "Cobalt Core\n",
            "Colony Ship: A Post-Earth Role Playing Game\n",
            "Colors:Zero\n"
          ]
        },
        {
          "output_type": "stream",
          "name": "stderr",
          "text": [
            "<ipython-input-7-6584a1e8cf52>:440: FutureWarning: The behavior of Series.idxmin with all-NA values, or any-NA and skipna=False, is deprecated. In a future version this will raise ValueError\n",
            "  plat = pd.to_numeric(df.loc[i, 'Steam Price' : 'XBOX Price']).idxmin()\n",
            "<ipython-input-7-6584a1e8cf52>:484: FutureWarning: The behavior of Series.idxmin with all-NA values, or any-NA and skipna=False, is deprecated. In a future version this will raise ValueError\n",
            "  min = pd.to_numeric(df.loc[i, 'Steam Min Price' : 'XBOX Min Price']).idxmin()\n"
          ]
        },
        {
          "output_type": "stream",
          "name": "stdout",
          "text": [
            "Commander Quest\n"
          ]
        },
        {
          "output_type": "stream",
          "name": "stderr",
          "text": [
            "<ipython-input-7-6584a1e8cf52>:440: FutureWarning: The behavior of Series.idxmin with all-NA values, or any-NA and skipna=False, is deprecated. In a future version this will raise ValueError\n",
            "  plat = pd.to_numeric(df.loc[i, 'Steam Price' : 'XBOX Price']).idxmin()\n",
            "<ipython-input-7-6584a1e8cf52>:484: FutureWarning: The behavior of Series.idxmin with all-NA values, or any-NA and skipna=False, is deprecated. In a future version this will raise ValueError\n",
            "  min = pd.to_numeric(df.loc[i, 'Steam Min Price' : 'XBOX Min Price']).idxmin()\n"
          ]
        },
        {
          "output_type": "stream",
          "name": "stdout",
          "text": [
            "Copycat\n",
            "Crash Bandicoot™ N. Sane Trilogy\n",
            "Crawlyard\n"
          ]
        },
        {
          "output_type": "stream",
          "name": "stderr",
          "text": [
            "<ipython-input-7-6584a1e8cf52>:440: FutureWarning: The behavior of Series.idxmin with all-NA values, or any-NA and skipna=False, is deprecated. In a future version this will raise ValueError\n",
            "  plat = pd.to_numeric(df.loc[i, 'Steam Price' : 'XBOX Price']).idxmin()\n",
            "<ipython-input-7-6584a1e8cf52>:484: FutureWarning: The behavior of Series.idxmin with all-NA values, or any-NA and skipna=False, is deprecated. In a future version this will raise ValueError\n",
            "  min = pd.to_numeric(df.loc[i, 'Steam Min Price' : 'XBOX Min Price']).idxmin()\n"
          ]
        },
        {
          "output_type": "stream",
          "name": "stdout",
          "text": [
            "Crazy Taxi\n",
            "Creaks\n",
            "Criminals Within\n"
          ]
        },
        {
          "output_type": "stream",
          "name": "stderr",
          "text": [
            "<ipython-input-7-6584a1e8cf52>:440: FutureWarning: The behavior of Series.idxmin with all-NA values, or any-NA and skipna=False, is deprecated. In a future version this will raise ValueError\n",
            "  plat = pd.to_numeric(df.loc[i, 'Steam Price' : 'XBOX Price']).idxmin()\n",
            "<ipython-input-7-6584a1e8cf52>:484: FutureWarning: The behavior of Series.idxmin with all-NA values, or any-NA and skipna=False, is deprecated. In a future version this will raise ValueError\n",
            "  min = pd.to_numeric(df.loc[i, 'Steam Min Price' : 'XBOX Min Price']).idxmin()\n"
          ]
        },
        {
          "output_type": "stream",
          "name": "stdout",
          "text": [
            "Crow Country\n",
            "Crown of Greed\n"
          ]
        },
        {
          "output_type": "stream",
          "name": "stderr",
          "text": [
            "<ipython-input-7-6584a1e8cf52>:440: FutureWarning: The behavior of Series.idxmin with all-NA values, or any-NA and skipna=False, is deprecated. In a future version this will raise ValueError\n",
            "  plat = pd.to_numeric(df.loc[i, 'Steam Price' : 'XBOX Price']).idxmin()\n",
            "<ipython-input-7-6584a1e8cf52>:484: FutureWarning: The behavior of Series.idxmin with all-NA values, or any-NA and skipna=False, is deprecated. In a future version this will raise ValueError\n",
            "  min = pd.to_numeric(df.loc[i, 'Steam Min Price' : 'XBOX Min Price']).idxmin()\n"
          ]
        },
        {
          "output_type": "stream",
          "name": "stdout",
          "text": [
            "Cthulhu Saves Christmas\n",
            "Cultist Simulator\n",
            "Curious Expedition\n",
            "Curious Expedition 2\n",
            "Curse of the Dead Gods\n",
            "D&D Lords of Waterdeep\n",
            "Dark Age Dinos\n"
          ]
        },
        {
          "output_type": "stream",
          "name": "stderr",
          "text": [
            "<ipython-input-7-6584a1e8cf52>:440: FutureWarning: The behavior of Series.idxmin with all-NA values, or any-NA and skipna=False, is deprecated. In a future version this will raise ValueError\n",
            "  plat = pd.to_numeric(df.loc[i, 'Steam Price' : 'XBOX Price']).idxmin()\n",
            "<ipython-input-7-6584a1e8cf52>:484: FutureWarning: The behavior of Series.idxmin with all-NA values, or any-NA and skipna=False, is deprecated. In a future version this will raise ValueError\n",
            "  min = pd.to_numeric(df.loc[i, 'Steam Min Price' : 'XBOX Min Price']).idxmin()\n"
          ]
        },
        {
          "output_type": "stream",
          "name": "stdout",
          "text": [
            "Dawn of Man\n",
            "Deathbulge: Battle of the Bands\n",
            "Demeo: PC Edition\n",
            "Demonschool\n"
          ]
        },
        {
          "output_type": "stream",
          "name": "stderr",
          "text": [
            "<ipython-input-7-6584a1e8cf52>:440: FutureWarning: The behavior of Series.idxmin with all-NA values, or any-NA and skipna=False, is deprecated. In a future version this will raise ValueError\n",
            "  plat = pd.to_numeric(df.loc[i, 'Steam Price' : 'XBOX Price']).idxmin()\n",
            "<ipython-input-7-6584a1e8cf52>:484: FutureWarning: The behavior of Series.idxmin with all-NA values, or any-NA and skipna=False, is deprecated. In a future version this will raise ValueError\n",
            "  min = pd.to_numeric(df.loc[i, 'Steam Min Price' : 'XBOX Min Price']).idxmin()\n"
          ]
        },
        {
          "output_type": "stream",
          "name": "stdout",
          "text": [
            "Desperados III\n",
            "Detective Grimoire\n",
            "dev_hell\n"
          ]
        },
        {
          "output_type": "stream",
          "name": "stderr",
          "text": [
            "<ipython-input-7-6584a1e8cf52>:440: FutureWarning: The behavior of Series.idxmin with all-NA values, or any-NA and skipna=False, is deprecated. In a future version this will raise ValueError\n",
            "  plat = pd.to_numeric(df.loc[i, 'Steam Price' : 'XBOX Price']).idxmin()\n",
            "<ipython-input-7-6584a1e8cf52>:484: FutureWarning: The behavior of Series.idxmin with all-NA values, or any-NA and skipna=False, is deprecated. In a future version this will raise ValueError\n",
            "  min = pd.to_numeric(df.loc[i, 'Steam Min Price' : 'XBOX Min Price']).idxmin()\n"
          ]
        },
        {
          "output_type": "stream",
          "name": "stdout",
          "text": [
            "Dice & Fold\n",
            "Dice Gambit\n"
          ]
        },
        {
          "output_type": "stream",
          "name": "stderr",
          "text": [
            "<ipython-input-7-6584a1e8cf52>:440: FutureWarning: The behavior of Series.idxmin with all-NA values, or any-NA and skipna=False, is deprecated. In a future version this will raise ValueError\n",
            "  plat = pd.to_numeric(df.loc[i, 'Steam Price' : 'XBOX Price']).idxmin()\n",
            "<ipython-input-7-6584a1e8cf52>:484: FutureWarning: The behavior of Series.idxmin with all-NA values, or any-NA and skipna=False, is deprecated. In a future version this will raise ValueError\n",
            "  min = pd.to_numeric(df.loc[i, 'Steam Min Price' : 'XBOX Min Price']).idxmin()\n"
          ]
        },
        {
          "output_type": "stream",
          "name": "stdout",
          "text": [
            "DICEOMANCER\n",
            "Dicey Birdball\n"
          ]
        },
        {
          "output_type": "stream",
          "name": "stderr",
          "text": [
            "<ipython-input-7-6584a1e8cf52>:440: FutureWarning: The behavior of Series.idxmin with all-NA values, or any-NA and skipna=False, is deprecated. In a future version this will raise ValueError\n",
            "  plat = pd.to_numeric(df.loc[i, 'Steam Price' : 'XBOX Price']).idxmin()\n",
            "<ipython-input-7-6584a1e8cf52>:484: FutureWarning: The behavior of Series.idxmin with all-NA values, or any-NA and skipna=False, is deprecated. In a future version this will raise ValueError\n",
            "  min = pd.to_numeric(df.loc[i, 'Steam Min Price' : 'XBOX Min Price']).idxmin()\n"
          ]
        },
        {
          "output_type": "stream",
          "name": "stdout",
          "text": [
            "Dimensionals\n",
            "Don't Kill Them All\n"
          ]
        },
        {
          "output_type": "stream",
          "name": "stderr",
          "text": [
            "<ipython-input-7-6584a1e8cf52>:440: FutureWarning: The behavior of Series.idxmin with all-NA values, or any-NA and skipna=False, is deprecated. In a future version this will raise ValueError\n",
            "  plat = pd.to_numeric(df.loc[i, 'Steam Price' : 'XBOX Price']).idxmin()\n",
            "<ipython-input-7-6584a1e8cf52>:484: FutureWarning: The behavior of Series.idxmin with all-NA values, or any-NA and skipna=False, is deprecated. In a future version this will raise ValueError\n",
            "  min = pd.to_numeric(df.loc[i, 'Steam Min Price' : 'XBOX Min Price']).idxmin()\n"
          ]
        },
        {
          "output_type": "stream",
          "name": "stdout",
          "text": [
            "Donkey Kong Country™: Tropical Freeze\n",
            "dotAGE\n",
            "Dragon Quest XI S: Echoes of an Elusive Age - Definitive Edition\n",
            "Dragon's Dogma: Dark Arisen\n",
            "Dream Tactics\n",
            "Dreamfall Chapters\n",
            "Dreams in the Witch House\n",
            "Drop Duchy\n"
          ]
        },
        {
          "output_type": "stream",
          "name": "stderr",
          "text": [
            "<ipython-input-7-6584a1e8cf52>:440: FutureWarning: The behavior of Series.idxmin with all-NA values, or any-NA and skipna=False, is deprecated. In a future version this will raise ValueError\n",
            "  plat = pd.to_numeric(df.loc[i, 'Steam Price' : 'XBOX Price']).idxmin()\n",
            "<ipython-input-7-6584a1e8cf52>:484: FutureWarning: The behavior of Series.idxmin with all-NA values, or any-NA and skipna=False, is deprecated. In a future version this will raise ValueError\n",
            "  min = pd.to_numeric(df.loc[i, 'Steam Min Price' : 'XBOX Min Price']).idxmin()\n"
          ]
        },
        {
          "output_type": "stream",
          "name": "stdout",
          "text": [
            "Drova - Forsaken Kin\n",
            "Duck Detective: The Secret Salami\n",
            "Duelists of Eden\n",
            "Dungeons 3\n",
            "Dungeons 4\n",
            "Dungeons of Dreadrock\n",
            "Dungeons Of Hinterberg\n",
            "Dust: An Elysian Tail\n",
            "Dwellink: War of the Nine\n"
          ]
        },
        {
          "output_type": "stream",
          "name": "stderr",
          "text": [
            "<ipython-input-7-6584a1e8cf52>:440: FutureWarning: The behavior of Series.idxmin with all-NA values, or any-NA and skipna=False, is deprecated. In a future version this will raise ValueError\n",
            "  plat = pd.to_numeric(df.loc[i, 'Steam Price' : 'XBOX Price']).idxmin()\n",
            "<ipython-input-7-6584a1e8cf52>:484: FutureWarning: The behavior of Series.idxmin with all-NA values, or any-NA and skipna=False, is deprecated. In a future version this will raise ValueError\n",
            "  min = pd.to_numeric(df.loc[i, 'Steam Min Price' : 'XBOX Min Price']).idxmin()\n"
          ]
        },
        {
          "output_type": "stream",
          "name": "stdout",
          "text": [
            "DYSMANTLE\n",
            "Earthless\n"
          ]
        },
        {
          "output_type": "stream",
          "name": "stderr",
          "text": [
            "<ipython-input-7-6584a1e8cf52>:440: FutureWarning: The behavior of Series.idxmin with all-NA values, or any-NA and skipna=False, is deprecated. In a future version this will raise ValueError\n",
            "  plat = pd.to_numeric(df.loc[i, 'Steam Price' : 'XBOX Price']).idxmin()\n",
            "<ipython-input-7-6584a1e8cf52>:484: FutureWarning: The behavior of Series.idxmin with all-NA values, or any-NA and skipna=False, is deprecated. In a future version this will raise ValueError\n",
            "  min = pd.to_numeric(df.loc[i, 'Steam Min Price' : 'XBOX Min Price']).idxmin()\n"
          ]
        },
        {
          "output_type": "stream",
          "name": "stdout",
          "text": [
            "Eastward\n",
            "Echoes of the Plum Grove\n",
            "Eldritch Tactics: Lichtmond\n"
          ]
        },
        {
          "output_type": "stream",
          "name": "stderr",
          "text": [
            "<ipython-input-7-6584a1e8cf52>:440: FutureWarning: The behavior of Series.idxmin with all-NA values, or any-NA and skipna=False, is deprecated. In a future version this will raise ValueError\n",
            "  plat = pd.to_numeric(df.loc[i, 'Steam Price' : 'XBOX Price']).idxmin()\n",
            "<ipython-input-7-6584a1e8cf52>:484: FutureWarning: The behavior of Series.idxmin with all-NA values, or any-NA and skipna=False, is deprecated. In a future version this will raise ValueError\n",
            "  min = pd.to_numeric(df.loc[i, 'Steam Min Price' : 'XBOX Min Price']).idxmin()\n"
          ]
        },
        {
          "output_type": "stream",
          "name": "stdout",
          "text": [
            "Elements\n"
          ]
        },
        {
          "output_type": "stream",
          "name": "stderr",
          "text": [
            "<ipython-input-7-6584a1e8cf52>:440: FutureWarning: The behavior of Series.idxmin with all-NA values, or any-NA and skipna=False, is deprecated. In a future version this will raise ValueError\n",
            "  plat = pd.to_numeric(df.loc[i, 'Steam Price' : 'XBOX Price']).idxmin()\n",
            "<ipython-input-7-6584a1e8cf52>:484: FutureWarning: The behavior of Series.idxmin with all-NA values, or any-NA and skipna=False, is deprecated. In a future version this will raise ValueError\n",
            "  min = pd.to_numeric(df.loc[i, 'Steam Min Price' : 'XBOX Min Price']).idxmin()\n"
          ]
        },
        {
          "output_type": "stream",
          "name": "stdout",
          "text": [
            "Elin\n",
            "Ember Knights\n",
            "Emio – The Smiling Man: Famicom Detective Club™\n",
            "ENDER LILIES: Quietus of the Knights\n",
            "Enigma of Fear\n",
            "Enshrouded\n",
            "Enter the Chronosphere\n"
          ]
        },
        {
          "output_type": "stream",
          "name": "stderr",
          "text": [
            "<ipython-input-7-6584a1e8cf52>:440: FutureWarning: The behavior of Series.idxmin with all-NA values, or any-NA and skipna=False, is deprecated. In a future version this will raise ValueError\n",
            "  plat = pd.to_numeric(df.loc[i, 'Steam Price' : 'XBOX Price']).idxmin()\n",
            "<ipython-input-7-6584a1e8cf52>:484: FutureWarning: The behavior of Series.idxmin with all-NA values, or any-NA and skipna=False, is deprecated. In a future version this will raise ValueError\n",
            "  min = pd.to_numeric(df.loc[i, 'Steam Min Price' : 'XBOX Min Price']).idxmin()\n"
          ]
        },
        {
          "output_type": "stream",
          "name": "stdout",
          "text": [
            "Escape First Alchemist\n",
            "Escape from Ever After\n"
          ]
        },
        {
          "output_type": "stream",
          "name": "stderr",
          "text": [
            "<ipython-input-7-6584a1e8cf52>:440: FutureWarning: The behavior of Series.idxmin with all-NA values, or any-NA and skipna=False, is deprecated. In a future version this will raise ValueError\n",
            "  plat = pd.to_numeric(df.loc[i, 'Steam Price' : 'XBOX Price']).idxmin()\n",
            "<ipython-input-7-6584a1e8cf52>:484: FutureWarning: The behavior of Series.idxmin with all-NA values, or any-NA and skipna=False, is deprecated. In a future version this will raise ValueError\n",
            "  min = pd.to_numeric(df.loc[i, 'Steam Min Price' : 'XBOX Min Price']).idxmin()\n"
          ]
        },
        {
          "output_type": "stream",
          "name": "stdout",
          "text": [
            "Escape From Mystwood Mansion\n",
            "Escape Simulator\n",
            "Escape the Loop\n"
          ]
        },
        {
          "output_type": "stream",
          "name": "stderr",
          "text": [
            "<ipython-input-7-6584a1e8cf52>:440: FutureWarning: The behavior of Series.idxmin with all-NA values, or any-NA and skipna=False, is deprecated. In a future version this will raise ValueError\n",
            "  plat = pd.to_numeric(df.loc[i, 'Steam Price' : 'XBOX Price']).idxmin()\n",
            "<ipython-input-7-6584a1e8cf52>:484: FutureWarning: The behavior of Series.idxmin with all-NA values, or any-NA and skipna=False, is deprecated. In a future version this will raise ValueError\n",
            "  min = pd.to_numeric(df.loc[i, 'Steam Min Price' : 'XBOX Min Price']).idxmin()\n"
          ]
        },
        {
          "output_type": "stream",
          "name": "stdout",
          "text": [
            "Etrian Odyssey HD\n",
            "Europa\n",
            "Evercore Heroes\n"
          ]
        },
        {
          "output_type": "stream",
          "name": "stderr",
          "text": [
            "<ipython-input-7-6584a1e8cf52>:440: FutureWarning: The behavior of Series.idxmin with all-NA values, or any-NA and skipna=False, is deprecated. In a future version this will raise ValueError\n",
            "  plat = pd.to_numeric(df.loc[i, 'Steam Price' : 'XBOX Price']).idxmin()\n",
            "<ipython-input-7-6584a1e8cf52>:484: FutureWarning: The behavior of Series.idxmin with all-NA values, or any-NA and skipna=False, is deprecated. In a future version this will raise ValueError\n",
            "  min = pd.to_numeric(df.loc[i, 'Steam Min Price' : 'XBOX Min Price']).idxmin()\n"
          ]
        },
        {
          "output_type": "stream",
          "name": "stdout",
          "text": [
            "Everdell\n",
            "Exanima\n",
            "Fabledom\n",
            "Famicom Detective Club™: The Two-Case Collection\n",
            "Fangs & Forges\n"
          ]
        },
        {
          "output_type": "stream",
          "name": "stderr",
          "text": [
            "<ipython-input-7-6584a1e8cf52>:440: FutureWarning: The behavior of Series.idxmin with all-NA values, or any-NA and skipna=False, is deprecated. In a future version this will raise ValueError\n",
            "  plat = pd.to_numeric(df.loc[i, 'Steam Price' : 'XBOX Price']).idxmin()\n",
            "<ipython-input-7-6584a1e8cf52>:484: FutureWarning: The behavior of Series.idxmin with all-NA values, or any-NA and skipna=False, is deprecated. In a future version this will raise ValueError\n",
            "  min = pd.to_numeric(df.loc[i, 'Steam Min Price' : 'XBOX Min Price']).idxmin()\n"
          ]
        },
        {
          "output_type": "stream",
          "name": "stdout",
          "text": [
            "Fantastic Haven\n"
          ]
        },
        {
          "output_type": "stream",
          "name": "stderr",
          "text": [
            "<ipython-input-7-6584a1e8cf52>:440: FutureWarning: The behavior of Series.idxmin with all-NA values, or any-NA and skipna=False, is deprecated. In a future version this will raise ValueError\n",
            "  plat = pd.to_numeric(df.loc[i, 'Steam Price' : 'XBOX Price']).idxmin()\n",
            "<ipython-input-7-6584a1e8cf52>:484: FutureWarning: The behavior of Series.idxmin with all-NA values, or any-NA and skipna=False, is deprecated. In a future version this will raise ValueError\n",
            "  min = pd.to_numeric(df.loc[i, 'Steam Min Price' : 'XBOX Min Price']).idxmin()\n"
          ]
        },
        {
          "output_type": "stream",
          "name": "stdout",
          "text": [
            "FAR: Changing Tides\n",
            "Farewell North\n",
            "FATE\n",
            "Fell Seal: Arbiter's Mark\n",
            "Fields of Mistria\n",
            "Fight Life: Vanguard\n"
          ]
        },
        {
          "output_type": "stream",
          "name": "stderr",
          "text": [
            "<ipython-input-7-6584a1e8cf52>:440: FutureWarning: The behavior of Series.idxmin with all-NA values, or any-NA and skipna=False, is deprecated. In a future version this will raise ValueError\n",
            "  plat = pd.to_numeric(df.loc[i, 'Steam Price' : 'XBOX Price']).idxmin()\n",
            "<ipython-input-7-6584a1e8cf52>:484: FutureWarning: The behavior of Series.idxmin with all-NA values, or any-NA and skipna=False, is deprecated. In a future version this will raise ValueError\n",
            "  min = pd.to_numeric(df.loc[i, 'Steam Min Price' : 'XBOX Min Price']).idxmin()\n"
          ]
        },
        {
          "output_type": "stream",
          "name": "stdout",
          "text": [
            "FINAL FANTASY III\n",
            "Final Fantasy III (3D Remake)\n",
            "FINAL FANTASY IV\n",
            "FINAL FANTASY VI\n",
            "Finding Paradise\n",
            "Fireside\n",
            "Firework\n",
            "Flock\n",
            "Follow the meaning\n",
            "Forge of the Fae\n"
          ]
        },
        {
          "output_type": "stream",
          "name": "stderr",
          "text": [
            "<ipython-input-7-6584a1e8cf52>:440: FutureWarning: The behavior of Series.idxmin with all-NA values, or any-NA and skipna=False, is deprecated. In a future version this will raise ValueError\n",
            "  plat = pd.to_numeric(df.loc[i, 'Steam Price' : 'XBOX Price']).idxmin()\n",
            "<ipython-input-7-6584a1e8cf52>:484: FutureWarning: The behavior of Series.idxmin with all-NA values, or any-NA and skipna=False, is deprecated. In a future version this will raise ValueError\n",
            "  min = pd.to_numeric(df.loc[i, 'Steam Min Price' : 'XBOX Min Price']).idxmin()\n"
          ]
        },
        {
          "output_type": "stream",
          "name": "stdout",
          "text": [
            "FORWARD: Escape the Fold - Ultimate Edition\n",
            "Fran Bow\n",
            "Frostpunk\n",
            "Fuga: Melodies of Steel\n",
            "Fuga: Melodies of Steel 2\n",
            "Galacticare\n",
            "Game Dev Story\n",
            "Gatekeeper\n",
            "Gibbous -  A Cthulhu Adventure\n",
            "Gloomhaven\n",
            "Godsworn\n",
            "Going Under\n",
            "Gourdlets\n",
            "Grand Arms: March of the Red Dragon\n"
          ]
        },
        {
          "output_type": "stream",
          "name": "stderr",
          "text": [
            "<ipython-input-7-6584a1e8cf52>:440: FutureWarning: The behavior of Series.idxmin with all-NA values, or any-NA and skipna=False, is deprecated. In a future version this will raise ValueError\n",
            "  plat = pd.to_numeric(df.loc[i, 'Steam Price' : 'XBOX Price']).idxmin()\n",
            "<ipython-input-7-6584a1e8cf52>:484: FutureWarning: The behavior of Series.idxmin with all-NA values, or any-NA and skipna=False, is deprecated. In a future version this will raise ValueError\n",
            "  min = pd.to_numeric(df.loc[i, 'Steam Min Price' : 'XBOX Min Price']).idxmin()\n"
          ]
        },
        {
          "output_type": "stream",
          "name": "stdout",
          "text": [
            "Graveyard Keeper\n",
            "Great God Grove\n",
            "Grifford Academy\n"
          ]
        },
        {
          "output_type": "stream",
          "name": "stderr",
          "text": [
            "<ipython-input-7-6584a1e8cf52>:440: FutureWarning: The behavior of Series.idxmin with all-NA values, or any-NA and skipna=False, is deprecated. In a future version this will raise ValueError\n",
            "  plat = pd.to_numeric(df.loc[i, 'Steam Price' : 'XBOX Price']).idxmin()\n",
            "<ipython-input-7-6584a1e8cf52>:484: FutureWarning: The behavior of Series.idxmin with all-NA values, or any-NA and skipna=False, is deprecated. In a future version this will raise ValueError\n",
            "  min = pd.to_numeric(df.loc[i, 'Steam Min Price' : 'XBOX Min Price']).idxmin()\n"
          ]
        },
        {
          "output_type": "stream",
          "name": "stdout",
          "text": [
            "Griftlands\n",
            "Grim Dawn\n",
            "GuildBound\n"
          ]
        },
        {
          "output_type": "stream",
          "name": "stderr",
          "text": [
            "<ipython-input-7-6584a1e8cf52>:440: FutureWarning: The behavior of Series.idxmin with all-NA values, or any-NA and skipna=False, is deprecated. In a future version this will raise ValueError\n",
            "  plat = pd.to_numeric(df.loc[i, 'Steam Price' : 'XBOX Price']).idxmin()\n",
            "<ipython-input-7-6584a1e8cf52>:484: FutureWarning: The behavior of Series.idxmin with all-NA values, or any-NA and skipna=False, is deprecated. In a future version this will raise ValueError\n",
            "  min = pd.to_numeric(df.loc[i, 'Steam Min Price' : 'XBOX Min Price']).idxmin()\n"
          ]
        },
        {
          "output_type": "stream",
          "name": "stdout",
          "text": [
            "GYLT\n",
            "Hadean Tactics\n",
            "Hades\n",
            "Halls of Torment\n",
            "Handmancers\n"
          ]
        },
        {
          "output_type": "stream",
          "name": "stderr",
          "text": [
            "<ipython-input-7-6584a1e8cf52>:440: FutureWarning: The behavior of Series.idxmin with all-NA values, or any-NA and skipna=False, is deprecated. In a future version this will raise ValueError\n",
            "  plat = pd.to_numeric(df.loc[i, 'Steam Price' : 'XBOX Price']).idxmin()\n",
            "<ipython-input-7-6584a1e8cf52>:484: FutureWarning: The behavior of Series.idxmin with all-NA values, or any-NA and skipna=False, is deprecated. In a future version this will raise ValueError\n",
            "  min = pd.to_numeric(df.loc[i, 'Steam Min Price' : 'XBOX Min Price']).idxmin()\n"
          ]
        },
        {
          "output_type": "stream",
          "name": "stdout",
          "text": [
            "Haunted Paws\n"
          ]
        },
        {
          "output_type": "stream",
          "name": "stderr",
          "text": [
            "<ipython-input-7-6584a1e8cf52>:440: FutureWarning: The behavior of Series.idxmin with all-NA values, or any-NA and skipna=False, is deprecated. In a future version this will raise ValueError\n",
            "  plat = pd.to_numeric(df.loc[i, 'Steam Price' : 'XBOX Price']).idxmin()\n",
            "<ipython-input-7-6584a1e8cf52>:484: FutureWarning: The behavior of Series.idxmin with all-NA values, or any-NA and skipna=False, is deprecated. In a future version this will raise ValueError\n",
            "  min = pd.to_numeric(df.loc[i, 'Steam Min Price' : 'XBOX Min Price']).idxmin()\n"
          ]
        },
        {
          "output_type": "stream",
          "name": "stdout",
          "text": [
            "Hauntii\n",
            "Havsala: Into the Soul Palace\n",
            "Heart of the Machine\n"
          ]
        },
        {
          "output_type": "stream",
          "name": "stderr",
          "text": [
            "<ipython-input-7-6584a1e8cf52>:440: FutureWarning: The behavior of Series.idxmin with all-NA values, or any-NA and skipna=False, is deprecated. In a future version this will raise ValueError\n",
            "  plat = pd.to_numeric(df.loc[i, 'Steam Price' : 'XBOX Price']).idxmin()\n",
            "<ipython-input-7-6584a1e8cf52>:484: FutureWarning: The behavior of Series.idxmin with all-NA values, or any-NA and skipna=False, is deprecated. In a future version this will raise ValueError\n",
            "  min = pd.to_numeric(df.loc[i, 'Steam Min Price' : 'XBOX Min Price']).idxmin()\n"
          ]
        },
        {
          "output_type": "stream",
          "name": "stdout",
          "text": [
            "Heaven's Vault\n",
            "HELLCARD\n",
            "Helskate\n",
            "Hermetica\n"
          ]
        },
        {
          "output_type": "stream",
          "name": "stderr",
          "text": [
            "<ipython-input-7-6584a1e8cf52>:440: FutureWarning: The behavior of Series.idxmin with all-NA values, or any-NA and skipna=False, is deprecated. In a future version this will raise ValueError\n",
            "  plat = pd.to_numeric(df.loc[i, 'Steam Price' : 'XBOX Price']).idxmin()\n",
            "<ipython-input-7-6584a1e8cf52>:484: FutureWarning: The behavior of Series.idxmin with all-NA values, or any-NA and skipna=False, is deprecated. In a future version this will raise ValueError\n",
            "  min = pd.to_numeric(df.loc[i, 'Steam Min Price' : 'XBOX Min Price']).idxmin()\n"
          ]
        },
        {
          "output_type": "stream",
          "name": "stdout",
          "text": [
            "Hexarchy\n",
            "HexLands\n"
          ]
        },
        {
          "output_type": "stream",
          "name": "stderr",
          "text": [
            "<ipython-input-7-6584a1e8cf52>:440: FutureWarning: The behavior of Series.idxmin with all-NA values, or any-NA and skipna=False, is deprecated. In a future version this will raise ValueError\n",
            "  plat = pd.to_numeric(df.loc[i, 'Steam Price' : 'XBOX Price']).idxmin()\n",
            "<ipython-input-7-6584a1e8cf52>:484: FutureWarning: The behavior of Series.idxmin with all-NA values, or any-NA and skipna=False, is deprecated. In a future version this will raise ValueError\n",
            "  min = pd.to_numeric(df.loc[i, 'Steam Min Price' : 'XBOX Min Price']).idxmin()\n"
          ]
        },
        {
          "output_type": "stream",
          "name": "stdout",
          "text": [
            "Hexxen: Hunters\n"
          ]
        },
        {
          "output_type": "stream",
          "name": "stderr",
          "text": [
            "<ipython-input-7-6584a1e8cf52>:440: FutureWarning: The behavior of Series.idxmin with all-NA values, or any-NA and skipna=False, is deprecated. In a future version this will raise ValueError\n",
            "  plat = pd.to_numeric(df.loc[i, 'Steam Price' : 'XBOX Price']).idxmin()\n",
            "<ipython-input-7-6584a1e8cf52>:484: FutureWarning: The behavior of Series.idxmin with all-NA values, or any-NA and skipna=False, is deprecated. In a future version this will raise ValueError\n",
            "  min = pd.to_numeric(df.loc[i, 'Steam Min Price' : 'XBOX Min Price']).idxmin()\n"
          ]
        },
        {
          "output_type": "stream",
          "name": "stdout",
          "text": [
            "Hi-Fi RUSH\n",
            "Hidden Pass\n"
          ]
        },
        {
          "output_type": "stream",
          "name": "stderr",
          "text": [
            "<ipython-input-7-6584a1e8cf52>:440: FutureWarning: The behavior of Series.idxmin with all-NA values, or any-NA and skipna=False, is deprecated. In a future version this will raise ValueError\n",
            "  plat = pd.to_numeric(df.loc[i, 'Steam Price' : 'XBOX Price']).idxmin()\n",
            "<ipython-input-7-6584a1e8cf52>:484: FutureWarning: The behavior of Series.idxmin with all-NA values, or any-NA and skipna=False, is deprecated. In a future version this will raise ValueError\n",
            "  min = pd.to_numeric(df.loc[i, 'Steam Min Price' : 'XBOX Min Price']).idxmin()\n"
          ]
        },
        {
          "output_type": "stream",
          "name": "stdout",
          "text": [
            "Hollywood Animal\n"
          ]
        },
        {
          "output_type": "stream",
          "name": "stderr",
          "text": [
            "<ipython-input-7-6584a1e8cf52>:440: FutureWarning: The behavior of Series.idxmin with all-NA values, or any-NA and skipna=False, is deprecated. In a future version this will raise ValueError\n",
            "  plat = pd.to_numeric(df.loc[i, 'Steam Price' : 'XBOX Price']).idxmin()\n",
            "<ipython-input-7-6584a1e8cf52>:484: FutureWarning: The behavior of Series.idxmin with all-NA values, or any-NA and skipna=False, is deprecated. In a future version this will raise ValueError\n",
            "  min = pd.to_numeric(df.loc[i, 'Steam Min Price' : 'XBOX Min Price']).idxmin()\n"
          ]
        },
        {
          "output_type": "stream",
          "name": "stdout",
          "text": [
            "Home Safety Hotline\n",
            "Homer's Odyssey\n"
          ]
        },
        {
          "output_type": "stream",
          "name": "stderr",
          "text": [
            "<ipython-input-7-6584a1e8cf52>:440: FutureWarning: The behavior of Series.idxmin with all-NA values, or any-NA and skipna=False, is deprecated. In a future version this will raise ValueError\n",
            "  plat = pd.to_numeric(df.loc[i, 'Steam Price' : 'XBOX Price']).idxmin()\n",
            "<ipython-input-7-6584a1e8cf52>:484: FutureWarning: The behavior of Series.idxmin with all-NA values, or any-NA and skipna=False, is deprecated. In a future version this will raise ValueError\n",
            "  min = pd.to_numeric(df.loc[i, 'Steam Min Price' : 'XBOX Min Price']).idxmin()\n"
          ]
        },
        {
          "output_type": "stream",
          "name": "stdout",
          "text": [
            "Howl\n",
            "Hyperbolica\n",
            "I Am Future: Cozy Apocalypse Survival\n",
            "I Was a Teenage Exocolonist\n",
            "Ikenfell\n",
            "Impostor Factory\n",
            "In Stars And Time\n",
            "Inkbound\n",
            "Inkulinati\n",
            "Invisible, Inc.\n",
            "Is this Game Trying to Kill Me?\n",
            "Island of Winds\n"
          ]
        },
        {
          "output_type": "stream",
          "name": "stderr",
          "text": [
            "<ipython-input-7-6584a1e8cf52>:440: FutureWarning: The behavior of Series.idxmin with all-NA values, or any-NA and skipna=False, is deprecated. In a future version this will raise ValueError\n",
            "  plat = pd.to_numeric(df.loc[i, 'Steam Price' : 'XBOX Price']).idxmin()\n",
            "<ipython-input-7-6584a1e8cf52>:484: FutureWarning: The behavior of Series.idxmin with all-NA values, or any-NA and skipna=False, is deprecated. In a future version this will raise ValueError\n",
            "  min = pd.to_numeric(df.loc[i, 'Steam Min Price' : 'XBOX Min Price']).idxmin()\n"
          ]
        },
        {
          "output_type": "stream",
          "name": "stdout",
          "text": [
            "ISLANDERS\n",
            "Jagged Alliance 3\n",
            "Jenny LeClue - Detectivu\n",
            "Jotunnslayer: Hordes of Hel\n"
          ]
        },
        {
          "output_type": "stream",
          "name": "stderr",
          "text": [
            "<ipython-input-7-6584a1e8cf52>:440: FutureWarning: The behavior of Series.idxmin with all-NA values, or any-NA and skipna=False, is deprecated. In a future version this will raise ValueError\n",
            "  plat = pd.to_numeric(df.loc[i, 'Steam Price' : 'XBOX Price']).idxmin()\n",
            "<ipython-input-7-6584a1e8cf52>:484: FutureWarning: The behavior of Series.idxmin with all-NA values, or any-NA and skipna=False, is deprecated. In a future version this will raise ValueError\n",
            "  min = pd.to_numeric(df.loc[i, 'Steam Min Price' : 'XBOX Min Price']).idxmin()\n"
          ]
        },
        {
          "output_type": "stream",
          "name": "stdout",
          "text": [
            "Jupiter Hell\n",
            "Just Crow Things\n",
            "Kaiserpunk\n"
          ]
        },
        {
          "output_type": "stream",
          "name": "stderr",
          "text": [
            "<ipython-input-7-6584a1e8cf52>:440: FutureWarning: The behavior of Series.idxmin with all-NA values, or any-NA and skipna=False, is deprecated. In a future version this will raise ValueError\n",
            "  plat = pd.to_numeric(df.loc[i, 'Steam Price' : 'XBOX Price']).idxmin()\n",
            "<ipython-input-7-6584a1e8cf52>:484: FutureWarning: The behavior of Series.idxmin with all-NA values, or any-NA and skipna=False, is deprecated. In a future version this will raise ValueError\n",
            "  min = pd.to_numeric(df.loc[i, 'Steam Min Price' : 'XBOX Min Price']).idxmin()\n"
          ]
        },
        {
          "output_type": "stream",
          "name": "stdout",
          "text": [
            "Kathy Rain\n",
            "Ken Follett's The Pillars of the Earth\n",
            "Kena: Bridge of Spirits\n",
            "King Arthur: Knight's Tale\n",
            "King Of The Castle\n",
            "Kingdom Hearts HD I.5 + II.5 ReMix\n",
            "Kingdom Hearts HD II.8 Final Chapter Prologue\n",
            "Kingdom Hearts III\n",
            "Kingdoms Reborn\n",
            "Kirby™ and the Forgotten Land\n",
            "Knights And Bikes\n",
            "Knights in Tight Spaces\n"
          ]
        },
        {
          "output_type": "stream",
          "name": "stderr",
          "text": [
            "<ipython-input-7-6584a1e8cf52>:440: FutureWarning: The behavior of Series.idxmin with all-NA values, or any-NA and skipna=False, is deprecated. In a future version this will raise ValueError\n",
            "  plat = pd.to_numeric(df.loc[i, 'Steam Price' : 'XBOX Price']).idxmin()\n",
            "<ipython-input-7-6584a1e8cf52>:484: FutureWarning: The behavior of Series.idxmin with all-NA values, or any-NA and skipna=False, is deprecated. In a future version this will raise ValueError\n",
            "  min = pd.to_numeric(df.loc[i, 'Steam Min Price' : 'XBOX Min Price']).idxmin()\n"
          ]
        },
        {
          "output_type": "stream",
          "name": "stdout",
          "text": [
            "Knights of Pen and Paper +1 Edition\n",
            "Knights of Pen and Paper 2\n",
            "Knock on the Coffin Lid\n",
            "Kristala\n",
            "L.A. Noire\n",
            "Labyrinthine\n",
            "Lair Of The Leviathan\n"
          ]
        },
        {
          "output_type": "stream",
          "name": "stderr",
          "text": [
            "<ipython-input-7-6584a1e8cf52>:440: FutureWarning: The behavior of Series.idxmin with all-NA values, or any-NA and skipna=False, is deprecated. In a future version this will raise ValueError\n",
            "  plat = pd.to_numeric(df.loc[i, 'Steam Price' : 'XBOX Price']).idxmin()\n",
            "<ipython-input-7-6584a1e8cf52>:484: FutureWarning: The behavior of Series.idxmin with all-NA values, or any-NA and skipna=False, is deprecated. In a future version this will raise ValueError\n",
            "  min = pd.to_numeric(df.loc[i, 'Steam Min Price' : 'XBOX Min Price']).idxmin()\n"
          ]
        },
        {
          "output_type": "stream",
          "name": "stdout",
          "text": [
            "Lamplight City\n",
            "Last Train Home\n",
            "Laysara: Summit Kingdom\n",
            "Legends of Awen: Rise of The Fianna\n"
          ]
        },
        {
          "output_type": "stream",
          "name": "stderr",
          "text": [
            "<ipython-input-7-6584a1e8cf52>:440: FutureWarning: The behavior of Series.idxmin with all-NA values, or any-NA and skipna=False, is deprecated. In a future version this will raise ValueError\n",
            "  plat = pd.to_numeric(df.loc[i, 'Steam Price' : 'XBOX Price']).idxmin()\n",
            "<ipython-input-7-6584a1e8cf52>:484: FutureWarning: The behavior of Series.idxmin with all-NA values, or any-NA and skipna=False, is deprecated. In a future version this will raise ValueError\n",
            "  min = pd.to_numeric(df.loc[i, 'Steam Min Price' : 'XBOX Min Price']).idxmin()\n"
          ]
        },
        {
          "output_type": "stream",
          "name": "stdout",
          "text": [
            "Legends of Starkadia\n"
          ]
        },
        {
          "output_type": "stream",
          "name": "stderr",
          "text": [
            "<ipython-input-7-6584a1e8cf52>:440: FutureWarning: The behavior of Series.idxmin with all-NA values, or any-NA and skipna=False, is deprecated. In a future version this will raise ValueError\n",
            "  plat = pd.to_numeric(df.loc[i, 'Steam Price' : 'XBOX Price']).idxmin()\n",
            "<ipython-input-7-6584a1e8cf52>:484: FutureWarning: The behavior of Series.idxmin with all-NA values, or any-NA and skipna=False, is deprecated. In a future version this will raise ValueError\n",
            "  min = pd.to_numeric(df.loc[i, 'Steam Min Price' : 'XBOX Min Price']).idxmin()\n"
          ]
        },
        {
          "output_type": "stream",
          "name": "stdout",
          "text": [
            "Life is Strange: Before the Storm\n",
            "Life Is Strange: True Colors\n",
            "Lil' Guardsman\n",
            "Little Goody Two Shoes\n",
            "Little Misfortune\n",
            "Little-Known Galaxy\n",
            "Littlewood\n",
            "LIVE A LIVE\n",
            "Loco Motive\n",
            "Loddlenaut\n",
            "Lorelei and the Laser Eyes\n",
            "Lost in Play\n",
            "Lost In The Open\n"
          ]
        },
        {
          "output_type": "stream",
          "name": "stderr",
          "text": [
            "<ipython-input-7-6584a1e8cf52>:440: FutureWarning: The behavior of Series.idxmin with all-NA values, or any-NA and skipna=False, is deprecated. In a future version this will raise ValueError\n",
            "  plat = pd.to_numeric(df.loc[i, 'Steam Price' : 'XBOX Price']).idxmin()\n",
            "<ipython-input-7-6584a1e8cf52>:484: FutureWarning: The behavior of Series.idxmin with all-NA values, or any-NA and skipna=False, is deprecated. In a future version this will raise ValueError\n",
            "  min = pd.to_numeric(df.loc[i, 'Steam Min Price' : 'XBOX Min Price']).idxmin()\n"
          ]
        },
        {
          "output_type": "stream",
          "name": "stdout",
          "text": [
            "Lost Odyssey\n",
            "Lost Words: Beyond the Page\n",
            "Luigi’s Mansion™ 3\n",
            "LUNA The Shadow Dust\n",
            "MageQuit\n",
            "Magin: The Rat Project Stories\n"
          ]
        },
        {
          "output_type": "stream",
          "name": "stderr",
          "text": [
            "<ipython-input-7-6584a1e8cf52>:440: FutureWarning: The behavior of Series.idxmin with all-NA values, or any-NA and skipna=False, is deprecated. In a future version this will raise ValueError\n",
            "  plat = pd.to_numeric(df.loc[i, 'Steam Price' : 'XBOX Price']).idxmin()\n",
            "<ipython-input-7-6584a1e8cf52>:484: FutureWarning: The behavior of Series.idxmin with all-NA values, or any-NA and skipna=False, is deprecated. In a future version this will raise ValueError\n",
            "  min = pd.to_numeric(df.loc[i, 'Steam Min Price' : 'XBOX Min Price']).idxmin()\n"
          ]
        },
        {
          "output_type": "stream",
          "name": "stdout",
          "text": [
            "Maliki : Poison Of The Past\n"
          ]
        },
        {
          "output_type": "stream",
          "name": "stderr",
          "text": [
            "<ipython-input-7-6584a1e8cf52>:440: FutureWarning: The behavior of Series.idxmin with all-NA values, or any-NA and skipna=False, is deprecated. In a future version this will raise ValueError\n",
            "  plat = pd.to_numeric(df.loc[i, 'Steam Price' : 'XBOX Price']).idxmin()\n",
            "<ipython-input-7-6584a1e8cf52>:484: FutureWarning: The behavior of Series.idxmin with all-NA values, or any-NA and skipna=False, is deprecated. In a future version this will raise ValueError\n",
            "  min = pd.to_numeric(df.loc[i, 'Steam Min Price' : 'XBOX Min Price']).idxmin()\n"
          ]
        },
        {
          "output_type": "stream",
          "name": "stdout",
          "text": [
            "Maniac\n",
            "Manor Lords\n",
            "MARIO + RABBIDS SPARKS OF HOPE\n",
            "Mario + Rabbids® Kingdom Battle\n",
            "Mario Strikers™: Battle League\n",
            "MARVEL ULTIMATE ALLIANCE 3: The Black Order\n",
            "Marvel’s Spider-Man Remastered\n",
            "Medieval Dynasty\n",
            "Meg's Monster\n",
            "Melatonin\n",
            "MEMORIAPOLIS\n",
            "Merchant of the Skies\n",
            "Metaphor: ReFantazio\n",
            "Meteorfall: Krumit's Tale\n",
            "Metropolis 1998\n"
          ]
        },
        {
          "output_type": "stream",
          "name": "stderr",
          "text": [
            "<ipython-input-7-6584a1e8cf52>:440: FutureWarning: The behavior of Series.idxmin with all-NA values, or any-NA and skipna=False, is deprecated. In a future version this will raise ValueError\n",
            "  plat = pd.to_numeric(df.loc[i, 'Steam Price' : 'XBOX Price']).idxmin()\n",
            "<ipython-input-7-6584a1e8cf52>:484: FutureWarning: The behavior of Series.idxmin with all-NA values, or any-NA and skipna=False, is deprecated. In a future version this will raise ValueError\n",
            "  min = pd.to_numeric(df.loc[i, 'Steam Min Price' : 'XBOX Min Price']).idxmin()\n"
          ]
        },
        {
          "output_type": "stream",
          "name": "stdout",
          "text": [
            "Mewgenics\n"
          ]
        },
        {
          "output_type": "stream",
          "name": "stderr",
          "text": [
            "<ipython-input-7-6584a1e8cf52>:440: FutureWarning: The behavior of Series.idxmin with all-NA values, or any-NA and skipna=False, is deprecated. In a future version this will raise ValueError\n",
            "  plat = pd.to_numeric(df.loc[i, 'Steam Price' : 'XBOX Price']).idxmin()\n",
            "<ipython-input-7-6584a1e8cf52>:484: FutureWarning: The behavior of Series.idxmin with all-NA values, or any-NA and skipna=False, is deprecated. In a future version this will raise ValueError\n",
            "  min = pd.to_numeric(df.loc[i, 'Steam Min Price' : 'XBOX Min Price']).idxmin()\n"
          ]
        },
        {
          "output_type": "stream",
          "name": "stdout",
          "text": [
            "Mika and The Witch's Mountain\n",
            "Minami Lane\n",
            "Mind Over Magic\n",
            "Mini Metro\n",
            "Mini Motorways\n",
            "Miss Mulligatawney's School for Promising Girls\n"
          ]
        },
        {
          "output_type": "stream",
          "name": "stderr",
          "text": [
            "<ipython-input-7-6584a1e8cf52>:440: FutureWarning: The behavior of Series.idxmin with all-NA values, or any-NA and skipna=False, is deprecated. In a future version this will raise ValueError\n",
            "  plat = pd.to_numeric(df.loc[i, 'Steam Price' : 'XBOX Price']).idxmin()\n",
            "<ipython-input-7-6584a1e8cf52>:484: FutureWarning: The behavior of Series.idxmin with all-NA values, or any-NA and skipna=False, is deprecated. In a future version this will raise ValueError\n",
            "  min = pd.to_numeric(df.loc[i, 'Steam Min Price' : 'XBOX Min Price']).idxmin()\n"
          ]
        },
        {
          "output_type": "stream",
          "name": "stdout",
          "text": [
            "Monkey Island 2 Special Edition: LeChuck's Revenge\n",
            "Monster Hunter Stories\n",
            "Moses & Plato - Last Train to Clawville\n"
          ]
        },
        {
          "output_type": "stream",
          "name": "stderr",
          "text": [
            "<ipython-input-7-6584a1e8cf52>:440: FutureWarning: The behavior of Series.idxmin with all-NA values, or any-NA and skipna=False, is deprecated. In a future version this will raise ValueError\n",
            "  plat = pd.to_numeric(df.loc[i, 'Steam Price' : 'XBOX Price']).idxmin()\n",
            "<ipython-input-7-6584a1e8cf52>:484: FutureWarning: The behavior of Series.idxmin with all-NA values, or any-NA and skipna=False, is deprecated. In a future version this will raise ValueError\n",
            "  min = pd.to_numeric(df.loc[i, 'Steam Min Price' : 'XBOX Min Price']).idxmin()\n"
          ]
        },
        {
          "output_type": "stream",
          "name": "stdout",
          "text": [
            "Mossfield Origins\n"
          ]
        },
        {
          "output_type": "stream",
          "name": "stderr",
          "text": [
            "<ipython-input-7-6584a1e8cf52>:440: FutureWarning: The behavior of Series.idxmin with all-NA values, or any-NA and skipna=False, is deprecated. In a future version this will raise ValueError\n",
            "  plat = pd.to_numeric(df.loc[i, 'Steam Price' : 'XBOX Price']).idxmin()\n",
            "<ipython-input-7-6584a1e8cf52>:484: FutureWarning: The behavior of Series.idxmin with all-NA values, or any-NA and skipna=False, is deprecated. In a future version this will raise ValueError\n",
            "  min = pd.to_numeric(df.loc[i, 'Steam Min Price' : 'XBOX Min Price']).idxmin()\n"
          ]
        },
        {
          "output_type": "stream",
          "name": "stdout",
          "text": [
            "Mount & Blade II: Bannerlord\n",
            "Mouthwashing\n",
            "Mr. Saitou\n",
            "My Familiar\n"
          ]
        },
        {
          "output_type": "stream",
          "name": "stderr",
          "text": [
            "<ipython-input-7-6584a1e8cf52>:440: FutureWarning: The behavior of Series.idxmin with all-NA values, or any-NA and skipna=False, is deprecated. In a future version this will raise ValueError\n",
            "  plat = pd.to_numeric(df.loc[i, 'Steam Price' : 'XBOX Price']).idxmin()\n",
            "<ipython-input-7-6584a1e8cf52>:484: FutureWarning: The behavior of Series.idxmin with all-NA values, or any-NA and skipna=False, is deprecated. In a future version this will raise ValueError\n",
            "  min = pd.to_numeric(df.loc[i, 'Steam Min Price' : 'XBOX Min Price']).idxmin()\n"
          ]
        },
        {
          "output_type": "stream",
          "name": "stdout",
          "text": [
            "Mystical Conquests\n"
          ]
        },
        {
          "output_type": "stream",
          "name": "stderr",
          "text": [
            "<ipython-input-7-6584a1e8cf52>:440: FutureWarning: The behavior of Series.idxmin with all-NA values, or any-NA and skipna=False, is deprecated. In a future version this will raise ValueError\n",
            "  plat = pd.to_numeric(df.loc[i, 'Steam Price' : 'XBOX Price']).idxmin()\n",
            "<ipython-input-7-6584a1e8cf52>:484: FutureWarning: The behavior of Series.idxmin with all-NA values, or any-NA and skipna=False, is deprecated. In a future version this will raise ValueError\n",
            "  min = pd.to_numeric(df.loc[i, 'Steam Min Price' : 'XBOX Min Price']).idxmin()\n"
          ]
        },
        {
          "output_type": "stream",
          "name": "stdout",
          "text": [
            "NEO: The World Ends with You\n",
            "Never Mourn\n",
            "New Arc Line\n",
            "News Tower\n",
            "NieR Automata: Become as Gods Edition\n",
            "Nirvana Noir\n"
          ]
        },
        {
          "output_type": "stream",
          "name": "stderr",
          "text": [
            "<ipython-input-7-6584a1e8cf52>:440: FutureWarning: The behavior of Series.idxmin with all-NA values, or any-NA and skipna=False, is deprecated. In a future version this will raise ValueError\n",
            "  plat = pd.to_numeric(df.loc[i, 'Steam Price' : 'XBOX Price']).idxmin()\n",
            "<ipython-input-7-6584a1e8cf52>:484: FutureWarning: The behavior of Series.idxmin with all-NA values, or any-NA and skipna=False, is deprecated. In a future version this will raise ValueError\n",
            "  min = pd.to_numeric(df.loc[i, 'Steam Min Price' : 'XBOX Min Price']).idxmin()\n"
          ]
        },
        {
          "output_type": "stream",
          "name": "stdout",
          "text": [
            "Nivalis\n"
          ]
        },
        {
          "output_type": "stream",
          "name": "stderr",
          "text": [
            "<ipython-input-7-6584a1e8cf52>:440: FutureWarning: The behavior of Series.idxmin with all-NA values, or any-NA and skipna=False, is deprecated. In a future version this will raise ValueError\n",
            "  plat = pd.to_numeric(df.loc[i, 'Steam Price' : 'XBOX Price']).idxmin()\n",
            "<ipython-input-7-6584a1e8cf52>:484: FutureWarning: The behavior of Series.idxmin with all-NA values, or any-NA and skipna=False, is deprecated. In a future version this will raise ValueError\n",
            "  min = pd.to_numeric(df.loc[i, 'Steam Min Price' : 'XBOX Min Price']).idxmin()\n"
          ]
        },
        {
          "output_type": "stream",
          "name": "stdout",
          "text": [
            "No Body\n"
          ]
        },
        {
          "output_type": "stream",
          "name": "stderr",
          "text": [
            "<ipython-input-7-6584a1e8cf52>:440: FutureWarning: The behavior of Series.idxmin with all-NA values, or any-NA and skipna=False, is deprecated. In a future version this will raise ValueError\n",
            "  plat = pd.to_numeric(df.loc[i, 'Steam Price' : 'XBOX Price']).idxmin()\n",
            "<ipython-input-7-6584a1e8cf52>:484: FutureWarning: The behavior of Series.idxmin with all-NA values, or any-NA and skipna=False, is deprecated. In a future version this will raise ValueError\n",
            "  min = pd.to_numeric(df.loc[i, 'Steam Min Price' : 'XBOX Min Price']).idxmin()\n"
          ]
        },
        {
          "output_type": "stream",
          "name": "stdout",
          "text": [
            "Noita\n",
            "Norco\n",
            "Nordic Ashes: Survivors of Ragnarok\n",
            "Norse\n"
          ]
        },
        {
          "output_type": "stream",
          "name": "stderr",
          "text": [
            "<ipython-input-7-6584a1e8cf52>:440: FutureWarning: The behavior of Series.idxmin with all-NA values, or any-NA and skipna=False, is deprecated. In a future version this will raise ValueError\n",
            "  plat = pd.to_numeric(df.loc[i, 'Steam Price' : 'XBOX Price']).idxmin()\n",
            "<ipython-input-7-6584a1e8cf52>:484: FutureWarning: The behavior of Series.idxmin with all-NA values, or any-NA and skipna=False, is deprecated. In a future version this will raise ValueError\n",
            "  min = pd.to_numeric(df.loc[i, 'Steam Min Price' : 'XBOX Min Price']).idxmin()\n"
          ]
        },
        {
          "output_type": "stream",
          "name": "stdout",
          "text": [
            "Northgard\n",
            "Not Tonight\n",
            "Nova Roma\n"
          ]
        },
        {
          "output_type": "stream",
          "name": "stderr",
          "text": [
            "<ipython-input-7-6584a1e8cf52>:440: FutureWarning: The behavior of Series.idxmin with all-NA values, or any-NA and skipna=False, is deprecated. In a future version this will raise ValueError\n",
            "  plat = pd.to_numeric(df.loc[i, 'Steam Price' : 'XBOX Price']).idxmin()\n",
            "<ipython-input-7-6584a1e8cf52>:484: FutureWarning: The behavior of Series.idxmin with all-NA values, or any-NA and skipna=False, is deprecated. In a future version this will raise ValueError\n",
            "  min = pd.to_numeric(df.loc[i, 'Steam Min Price' : 'XBOX Min Price']).idxmin()\n"
          ]
        },
        {
          "output_type": "stream",
          "name": "stdout",
          "text": [
            "Octopath Traveler\n",
            "Octopath Traveler II\n",
            "Oddsparks: An Automation Adventure\n",
            "Of Ash and Steel\n"
          ]
        },
        {
          "output_type": "stream",
          "name": "stderr",
          "text": [
            "<ipython-input-7-6584a1e8cf52>:440: FutureWarning: The behavior of Series.idxmin with all-NA values, or any-NA and skipna=False, is deprecated. In a future version this will raise ValueError\n",
            "  plat = pd.to_numeric(df.loc[i, 'Steam Price' : 'XBOX Price']).idxmin()\n",
            "<ipython-input-7-6584a1e8cf52>:484: FutureWarning: The behavior of Series.idxmin with all-NA values, or any-NA and skipna=False, is deprecated. In a future version this will raise ValueError\n",
            "  min = pd.to_numeric(df.loc[i, 'Steam Min Price' : 'XBOX Min Price']).idxmin()\n"
          ]
        },
        {
          "output_type": "stream",
          "name": "stdout",
          "text": [
            "Oh Deer\n",
            "Old Man's Journey\n",
            "OlliOlli\n",
            "Omno\n",
            "OMORI\n",
            "One Step from Eden\n",
            "OneShot\n",
            "Ooblets\n",
            "Orcs Must Die!\n",
            "Overboard!\n",
            "OXENFREE II: Lost Signals\n",
            "PAC-MAN WORLD Re-PAC\n",
            "Pacific Drive\n",
            "Paleo Pines\n",
            "Paper Trail\n",
            "Paralives\n"
          ]
        },
        {
          "output_type": "stream",
          "name": "stderr",
          "text": [
            "<ipython-input-7-6584a1e8cf52>:440: FutureWarning: The behavior of Series.idxmin with all-NA values, or any-NA and skipna=False, is deprecated. In a future version this will raise ValueError\n",
            "  plat = pd.to_numeric(df.loc[i, 'Steam Price' : 'XBOX Price']).idxmin()\n",
            "<ipython-input-7-6584a1e8cf52>:484: FutureWarning: The behavior of Series.idxmin with all-NA values, or any-NA and skipna=False, is deprecated. In a future version this will raise ValueError\n",
            "  min = pd.to_numeric(df.loc[i, 'Steam Min Price' : 'XBOX Min Price']).idxmin()\n"
          ]
        },
        {
          "output_type": "stream",
          "name": "stdout",
          "text": [
            "PARANORMASIGHT: The Seven Mysteries of Honjo\n",
            "Pathfinder: Wrath of the Righteous - Enhanced Edition\n",
            "Pentiment\n",
            "Persona 4: Golden\n",
            "Persona 5: Royal\n",
            "Pilgrims\n",
            "Pillars of Eternity II: Deadfire - Ultimate Edition\n",
            "Pillars of Eternity: Complete Edition\n",
            "Pioneers of Pagonia\n",
            "Pit People®\n",
            "Pizza Possum\n",
            "Pizza Tower\n",
            "Plan B: Terraform\n",
            "Planet Coaster\n",
            "Planet Zoo\n",
            "Pokémon Mystery Dungeon™: Rescue Team DX\n",
            "Pokémon™ Legends: Arceus\n",
            "Pony Island\n",
            "Pony Island 2: Panda Circus\n"
          ]
        },
        {
          "output_type": "stream",
          "name": "stderr",
          "text": [
            "<ipython-input-7-6584a1e8cf52>:440: FutureWarning: The behavior of Series.idxmin with all-NA values, or any-NA and skipna=False, is deprecated. In a future version this will raise ValueError\n",
            "  plat = pd.to_numeric(df.loc[i, 'Steam Price' : 'XBOX Price']).idxmin()\n",
            "<ipython-input-7-6584a1e8cf52>:484: FutureWarning: The behavior of Series.idxmin with all-NA values, or any-NA and skipna=False, is deprecated. In a future version this will raise ValueError\n",
            "  min = pd.to_numeric(df.loc[i, 'Steam Min Price' : 'XBOX Min Price']).idxmin()\n"
          ]
        },
        {
          "output_type": "stream",
          "name": "stdout",
          "text": [
            "Potato Flowers in Full Bloom\n",
            "Potion Craft\n",
            "Prelude Dark Pain\n"
          ]
        },
        {
          "output_type": "stream",
          "name": "stderr",
          "text": [
            "<ipython-input-7-6584a1e8cf52>:440: FutureWarning: The behavior of Series.idxmin with all-NA values, or any-NA and skipna=False, is deprecated. In a future version this will raise ValueError\n",
            "  plat = pd.to_numeric(df.loc[i, 'Steam Price' : 'XBOX Price']).idxmin()\n",
            "<ipython-input-7-6584a1e8cf52>:484: FutureWarning: The behavior of Series.idxmin with all-NA values, or any-NA and skipna=False, is deprecated. In a future version this will raise ValueError\n",
            "  min = pd.to_numeric(df.loc[i, 'Steam Min Price' : 'XBOX Min Price']).idxmin()\n"
          ]
        },
        {
          "output_type": "stream",
          "name": "stdout",
          "text": [
            "Prisma\n"
          ]
        },
        {
          "output_type": "stream",
          "name": "stderr",
          "text": [
            "<ipython-input-7-6584a1e8cf52>:440: FutureWarning: The behavior of Series.idxmin with all-NA values, or any-NA and skipna=False, is deprecated. In a future version this will raise ValueError\n",
            "  plat = pd.to_numeric(df.loc[i, 'Steam Price' : 'XBOX Price']).idxmin()\n",
            "<ipython-input-7-6584a1e8cf52>:484: FutureWarning: The behavior of Series.idxmin with all-NA values, or any-NA and skipna=False, is deprecated. In a future version this will raise ValueError\n",
            "  min = pd.to_numeric(df.loc[i, 'Steam Min Price' : 'XBOX Min Price']).idxmin()\n"
          ]
        },
        {
          "output_type": "stream",
          "name": "stdout",
          "text": [
            "Process of Elimination\n",
            "Project Haven\n"
          ]
        },
        {
          "output_type": "stream",
          "name": "stderr",
          "text": [
            "<ipython-input-7-6584a1e8cf52>:440: FutureWarning: The behavior of Series.idxmin with all-NA values, or any-NA and skipna=False, is deprecated. In a future version this will raise ValueError\n",
            "  plat = pd.to_numeric(df.loc[i, 'Steam Price' : 'XBOX Price']).idxmin()\n",
            "<ipython-input-7-6584a1e8cf52>:484: FutureWarning: The behavior of Series.idxmin with all-NA values, or any-NA and skipna=False, is deprecated. In a future version this will raise ValueError\n",
            "  min = pd.to_numeric(df.loc[i, 'Steam Min Price' : 'XBOX Min Price']).idxmin()\n"
          ]
        },
        {
          "output_type": "stream",
          "name": "stdout",
          "text": [
            "Prometheus Wept\n"
          ]
        },
        {
          "output_type": "stream",
          "name": "stderr",
          "text": [
            "<ipython-input-7-6584a1e8cf52>:440: FutureWarning: The behavior of Series.idxmin with all-NA values, or any-NA and skipna=False, is deprecated. In a future version this will raise ValueError\n",
            "  plat = pd.to_numeric(df.loc[i, 'Steam Price' : 'XBOX Price']).idxmin()\n"
          ]
        },
        {
          "output_type": "stream",
          "name": "stdout",
          "text": [
            "Pyre\n",
            "Pyrene\n",
            "Quilts and Cats of Calico\n",
            "Rabbit and Steel\n",
            "Railbound\n",
            "Railroader\n",
            "Railway Empire\n",
            "Raji: An Ancient Epic\n",
            "Rakuen\n",
            "Ratropolis\n",
            "Ravenlok\n",
            "Ravenswatch\n",
            "Realms Beyond: Ashes of the Fallen\n"
          ]
        },
        {
          "output_type": "stream",
          "name": "stderr",
          "text": [
            "<ipython-input-7-6584a1e8cf52>:440: FutureWarning: The behavior of Series.idxmin with all-NA values, or any-NA and skipna=False, is deprecated. In a future version this will raise ValueError\n",
            "  plat = pd.to_numeric(df.loc[i, 'Steam Price' : 'XBOX Price']).idxmin()\n",
            "<ipython-input-7-6584a1e8cf52>:484: FutureWarning: The behavior of Series.idxmin with all-NA values, or any-NA and skipna=False, is deprecated. In a future version this will raise ValueError\n",
            "  min = pd.to_numeric(df.loc[i, 'Steam Min Price' : 'XBOX Min Price']).idxmin()\n"
          ]
        },
        {
          "output_type": "stream",
          "name": "stdout",
          "text": [
            "REKA\n",
            "Reus 2\n",
            "RimWorld\n",
            "Ring of Pain\n",
            "Risen 2: Dark Waters\n",
            "River City Girls\n",
            "River City Girls 2\n",
            "River Towns\n"
          ]
        },
        {
          "output_type": "stream",
          "name": "stderr",
          "text": [
            "<ipython-input-7-6584a1e8cf52>:440: FutureWarning: The behavior of Series.idxmin with all-NA values, or any-NA and skipna=False, is deprecated. In a future version this will raise ValueError\n",
            "  plat = pd.to_numeric(df.loc[i, 'Steam Price' : 'XBOX Price']).idxmin()\n",
            "<ipython-input-7-6584a1e8cf52>:484: FutureWarning: The behavior of Series.idxmin with all-NA values, or any-NA and skipna=False, is deprecated. In a future version this will raise ValueError\n",
            "  min = pd.to_numeric(df.loc[i, 'Steam Min Price' : 'XBOX Min Price']).idxmin()\n"
          ]
        },
        {
          "output_type": "stream",
          "name": "stdout",
          "text": [
            "Roadwarden\n",
            "Rogue Waters\n",
            "Romancing SaGa 2: Revenge of the Seven\n",
            "Roots of Pacha\n",
            "Roots of Yggdrasil\n",
            "Rosewater\n"
          ]
        },
        {
          "output_type": "stream",
          "name": "stderr",
          "text": [
            "<ipython-input-7-6584a1e8cf52>:440: FutureWarning: The behavior of Series.idxmin with all-NA values, or any-NA and skipna=False, is deprecated. In a future version this will raise ValueError\n",
            "  plat = pd.to_numeric(df.loc[i, 'Steam Price' : 'XBOX Price']).idxmin()\n",
            "<ipython-input-7-6584a1e8cf52>:484: FutureWarning: The behavior of Series.idxmin with all-NA values, or any-NA and skipna=False, is deprecated. In a future version this will raise ValueError\n",
            "  min = pd.to_numeric(df.loc[i, 'Steam Min Price' : 'XBOX Min Price']).idxmin()\n"
          ]
        },
        {
          "output_type": "stream",
          "name": "stdout",
          "text": [
            "Ruined King: A League of Legends Story™\n",
            "Sanctua\n"
          ]
        },
        {
          "output_type": "stream",
          "name": "stderr",
          "text": [
            "<ipython-input-7-6584a1e8cf52>:440: FutureWarning: The behavior of Series.idxmin with all-NA values, or any-NA and skipna=False, is deprecated. In a future version this will raise ValueError\n",
            "  plat = pd.to_numeric(df.loc[i, 'Steam Price' : 'XBOX Price']).idxmin()\n",
            "<ipython-input-7-6584a1e8cf52>:484: FutureWarning: The behavior of Series.idxmin with all-NA values, or any-NA and skipna=False, is deprecated. In a future version this will raise ValueError\n",
            "  min = pd.to_numeric(df.loc[i, 'Steam Min Price' : 'XBOX Min Price']).idxmin()\n"
          ]
        },
        {
          "output_type": "stream",
          "name": "stdout",
          "text": [
            "SAND LAND\n",
            "Sand Nomads\n"
          ]
        },
        {
          "output_type": "stream",
          "name": "stderr",
          "text": [
            "<ipython-input-7-6584a1e8cf52>:440: FutureWarning: The behavior of Series.idxmin with all-NA values, or any-NA and skipna=False, is deprecated. In a future version this will raise ValueError\n",
            "  plat = pd.to_numeric(df.loc[i, 'Steam Price' : 'XBOX Price']).idxmin()\n",
            "<ipython-input-7-6584a1e8cf52>:484: FutureWarning: The behavior of Series.idxmin with all-NA values, or any-NA and skipna=False, is deprecated. In a future version this will raise ValueError\n",
            "  min = pd.to_numeric(df.loc[i, 'Steam Min Price' : 'XBOX Min Price']).idxmin()\n"
          ]
        },
        {
          "output_type": "stream",
          "name": "stdout",
          "text": [
            "Sayonara Wild Hearts\n",
            "Scarlet Hollow\n",
            "Sea of Stars\n",
            "Seablip\n",
            "SEASON: A letter to the future\n",
            "Secrets of Grindea\n",
            "Session: Skate Sim\n",
            "Shadow Gambit: The Cursed Crew\n",
            "Shadow of the Road\n"
          ]
        },
        {
          "output_type": "stream",
          "name": "stderr",
          "text": [
            "<ipython-input-7-6584a1e8cf52>:440: FutureWarning: The behavior of Series.idxmin with all-NA values, or any-NA and skipna=False, is deprecated. In a future version this will raise ValueError\n",
            "  plat = pd.to_numeric(df.loc[i, 'Steam Price' : 'XBOX Price']).idxmin()\n",
            "<ipython-input-7-6584a1e8cf52>:484: FutureWarning: The behavior of Series.idxmin with all-NA values, or any-NA and skipna=False, is deprecated. In a future version this will raise ValueError\n",
            "  min = pd.to_numeric(df.loc[i, 'Steam Min Price' : 'XBOX Min Price']).idxmin()\n"
          ]
        },
        {
          "output_type": "stream",
          "name": "stdout",
          "text": [
            "Shadow Tactics: Blades of the Shogun\n",
            "Shadowrun Trilogy\n",
            "Shadows Over Loathing\n",
            "Shashingo: Learn Japanese with Photography\n",
            "Sherlock Holmes The Awakened\n",
            "Ship of Fools\n",
            "Shuffle Tactics\n"
          ]
        },
        {
          "output_type": "stream",
          "name": "stderr",
          "text": [
            "<ipython-input-7-6584a1e8cf52>:440: FutureWarning: The behavior of Series.idxmin with all-NA values, or any-NA and skipna=False, is deprecated. In a future version this will raise ValueError\n",
            "  plat = pd.to_numeric(df.loc[i, 'Steam Price' : 'XBOX Price']).idxmin()\n",
            "<ipython-input-7-6584a1e8cf52>:484: FutureWarning: The behavior of Series.idxmin with all-NA values, or any-NA and skipna=False, is deprecated. In a future version this will raise ValueError\n",
            "  min = pd.to_numeric(df.loc[i, 'Steam Min Price' : 'XBOX Min Price']).idxmin()\n"
          ]
        },
        {
          "output_type": "stream",
          "name": "stdout",
          "text": [
            "Sid Meier's Civilization Revolution\n",
            "Sid Meier's Pirates!\n",
            "Sigilfarer\n"
          ]
        },
        {
          "output_type": "stream",
          "name": "stderr",
          "text": [
            "<ipython-input-7-6584a1e8cf52>:440: FutureWarning: The behavior of Series.idxmin with all-NA values, or any-NA and skipna=False, is deprecated. In a future version this will raise ValueError\n",
            "  plat = pd.to_numeric(df.loc[i, 'Steam Price' : 'XBOX Price']).idxmin()\n",
            "<ipython-input-7-6584a1e8cf52>:484: FutureWarning: The behavior of Series.idxmin with all-NA values, or any-NA and skipna=False, is deprecated. In a future version this will raise ValueError\n",
            "  min = pd.to_numeric(df.loc[i, 'Steam Min Price' : 'XBOX Min Price']).idxmin()\n"
          ]
        },
        {
          "output_type": "stream",
          "name": "stdout",
          "text": [
            "Signy & Mino: Against All Gods\n"
          ]
        },
        {
          "output_type": "stream",
          "name": "stderr",
          "text": [
            "<ipython-input-7-6584a1e8cf52>:440: FutureWarning: The behavior of Series.idxmin with all-NA values, or any-NA and skipna=False, is deprecated. In a future version this will raise ValueError\n",
            "  plat = pd.to_numeric(df.loc[i, 'Steam Price' : 'XBOX Price']).idxmin()\n",
            "<ipython-input-7-6584a1e8cf52>:484: FutureWarning: The behavior of Series.idxmin with all-NA values, or any-NA and skipna=False, is deprecated. In a future version this will raise ValueError\n",
            "  min = pd.to_numeric(df.loc[i, 'Steam Min Price' : 'XBOX Min Price']).idxmin()\n"
          ]
        },
        {
          "output_type": "stream",
          "name": "stdout",
          "text": [
            "SKALD: Against the Black Priory\n",
            "SkateBird\n",
            "Skater XL - The Ultimate Skateboarding Game\n",
            "Skul: The Hero Slayer\n",
            "Slay the Spire 2\n"
          ]
        },
        {
          "output_type": "stream",
          "name": "stderr",
          "text": [
            "<ipython-input-7-6584a1e8cf52>:440: FutureWarning: The behavior of Series.idxmin with all-NA values, or any-NA and skipna=False, is deprecated. In a future version this will raise ValueError\n",
            "  plat = pd.to_numeric(df.loc[i, 'Steam Price' : 'XBOX Price']).idxmin()\n",
            "<ipython-input-7-6584a1e8cf52>:484: FutureWarning: The behavior of Series.idxmin with all-NA values, or any-NA and skipna=False, is deprecated. In a future version this will raise ValueError\n",
            "  min = pd.to_numeric(df.loc[i, 'Steam Min Price' : 'XBOX Min Price']).idxmin()\n"
          ]
        },
        {
          "output_type": "stream",
          "name": "stdout",
          "text": [
            "Slice & Dice\n",
            "Small Saga\n",
            "Smalland: Survive the Wilds\n",
            "Snufkin: Melody of Moominvalley\n",
            "Solasta: Crown of the Magister\n",
            "Solium Infernum\n",
            "SOMA\n",
            "Song of Nunu: A League of Legends Story™\n",
            "Songs of Conquest\n",
            "Songs of Glimmerwick\n"
          ]
        },
        {
          "output_type": "stream",
          "name": "stderr",
          "text": [
            "<ipython-input-7-6584a1e8cf52>:440: FutureWarning: The behavior of Series.idxmin with all-NA values, or any-NA and skipna=False, is deprecated. In a future version this will raise ValueError\n",
            "  plat = pd.to_numeric(df.loc[i, 'Steam Price' : 'XBOX Price']).idxmin()\n",
            "<ipython-input-7-6584a1e8cf52>:484: FutureWarning: The behavior of Series.idxmin with all-NA values, or any-NA and skipna=False, is deprecated. In a future version this will raise ValueError\n",
            "  min = pd.to_numeric(df.loc[i, 'Steam Min Price' : 'XBOX Min Price']).idxmin()\n"
          ]
        },
        {
          "output_type": "stream",
          "name": "stdout",
          "text": [
            "Songs of Steel: Hispania\n",
            "Sonic Frontiers\n",
            "Sonzai\n"
          ]
        },
        {
          "output_type": "stream",
          "name": "stderr",
          "text": [
            "<ipython-input-7-6584a1e8cf52>:440: FutureWarning: The behavior of Series.idxmin with all-NA values, or any-NA and skipna=False, is deprecated. In a future version this will raise ValueError\n",
            "  plat = pd.to_numeric(df.loc[i, 'Steam Price' : 'XBOX Price']).idxmin()\n",
            "<ipython-input-7-6584a1e8cf52>:484: FutureWarning: The behavior of Series.idxmin with all-NA values, or any-NA and skipna=False, is deprecated. In a future version this will raise ValueError\n",
            "  min = pd.to_numeric(df.loc[i, 'Steam Min Price' : 'XBOX Min Price']).idxmin()\n"
          ]
        },
        {
          "output_type": "stream",
          "name": "stdout",
          "text": [
            "Sopa\n"
          ]
        },
        {
          "output_type": "stream",
          "name": "stderr",
          "text": [
            "<ipython-input-7-6584a1e8cf52>:440: FutureWarning: The behavior of Series.idxmin with all-NA values, or any-NA and skipna=False, is deprecated. In a future version this will raise ValueError\n",
            "  plat = pd.to_numeric(df.loc[i, 'Steam Price' : 'XBOX Price']).idxmin()\n",
            "<ipython-input-7-6584a1e8cf52>:484: FutureWarning: The behavior of Series.idxmin with all-NA values, or any-NA and skipna=False, is deprecated. In a future version this will raise ValueError\n",
            "  min = pd.to_numeric(df.loc[i, 'Steam Min Price' : 'XBOX Min Price']).idxmin()\n"
          ]
        },
        {
          "output_type": "stream",
          "name": "stdout",
          "text": [
            "Sorcery! Parts 1 and 2\n",
            "Soulstone Survivors\n",
            "Sovereign Syndicate\n",
            "Spear Song\n",
            "Spellcaster University\n",
            "SpellForce: Conquest of Eo\n",
            "SpellRogue\n",
            "Spies & Soldiers\n"
          ]
        },
        {
          "output_type": "stream",
          "name": "stderr",
          "text": [
            "<ipython-input-7-6584a1e8cf52>:440: FutureWarning: The behavior of Series.idxmin with all-NA values, or any-NA and skipna=False, is deprecated. In a future version this will raise ValueError\n",
            "  plat = pd.to_numeric(df.loc[i, 'Steam Price' : 'XBOX Price']).idxmin()\n",
            "<ipython-input-7-6584a1e8cf52>:484: FutureWarning: The behavior of Series.idxmin with all-NA values, or any-NA and skipna=False, is deprecated. In a future version this will raise ValueError\n",
            "  min = pd.to_numeric(df.loc[i, 'Steam Min Price' : 'XBOX Min Price']).idxmin()\n"
          ]
        },
        {
          "output_type": "stream",
          "name": "stdout",
          "text": [
            "Split Fiction\n",
            "Spyro™ Reignited Trilogy\n",
            "Stage Fright\n"
          ]
        },
        {
          "output_type": "stream",
          "name": "stderr",
          "text": [
            "<ipython-input-7-6584a1e8cf52>:440: FutureWarning: The behavior of Series.idxmin with all-NA values, or any-NA and skipna=False, is deprecated. In a future version this will raise ValueError\n",
            "  plat = pd.to_numeric(df.loc[i, 'Steam Price' : 'XBOX Price']).idxmin()\n",
            "<ipython-input-7-6584a1e8cf52>:484: FutureWarning: The behavior of Series.idxmin with all-NA values, or any-NA and skipna=False, is deprecated. In a future version this will raise ValueError\n",
            "  min = pd.to_numeric(df.loc[i, 'Steam Min Price' : 'XBOX Min Price']).idxmin()\n"
          ]
        },
        {
          "output_type": "stream",
          "name": "stdout",
          "text": [
            "Stolen Realm\n",
            "Stories from the Outbreak\n",
            "Strange Antiquities\n"
          ]
        },
        {
          "output_type": "stream",
          "name": "stderr",
          "text": [
            "<ipython-input-7-6584a1e8cf52>:440: FutureWarning: The behavior of Series.idxmin with all-NA values, or any-NA and skipna=False, is deprecated. In a future version this will raise ValueError\n",
            "  plat = pd.to_numeric(df.loc[i, 'Steam Price' : 'XBOX Price']).idxmin()\n",
            "<ipython-input-7-6584a1e8cf52>:484: FutureWarning: The behavior of Series.idxmin with all-NA values, or any-NA and skipna=False, is deprecated. In a future version this will raise ValueError\n",
            "  min = pd.to_numeric(df.loc[i, 'Steam Min Price' : 'XBOX Min Price']).idxmin()\n"
          ]
        },
        {
          "output_type": "stream",
          "name": "stdout",
          "text": [
            "Streets of Fortuna\n"
          ]
        },
        {
          "output_type": "stream",
          "name": "stderr",
          "text": [
            "<ipython-input-7-6584a1e8cf52>:440: FutureWarning: The behavior of Series.idxmin with all-NA values, or any-NA and skipna=False, is deprecated. In a future version this will raise ValueError\n",
            "  plat = pd.to_numeric(df.loc[i, 'Steam Price' : 'XBOX Price']).idxmin()\n",
            "<ipython-input-7-6584a1e8cf52>:484: FutureWarning: The behavior of Series.idxmin with all-NA values, or any-NA and skipna=False, is deprecated. In a future version this will raise ValueError\n",
            "  min = pd.to_numeric(df.loc[i, 'Steam Min Price' : 'XBOX Min Price']).idxmin()\n"
          ]
        },
        {
          "output_type": "stream",
          "name": "stdout",
          "text": [
            "Streets of Rogue\n",
            "Stygian: Outer Gods\n"
          ]
        },
        {
          "output_type": "stream",
          "name": "stderr",
          "text": [
            "<ipython-input-7-6584a1e8cf52>:440: FutureWarning: The behavior of Series.idxmin with all-NA values, or any-NA and skipna=False, is deprecated. In a future version this will raise ValueError\n",
            "  plat = pd.to_numeric(df.loc[i, 'Steam Price' : 'XBOX Price']).idxmin()\n"
          ]
        },
        {
          "output_type": "stream",
          "name": "stdout",
          "text": [
            "Successor\n"
          ]
        },
        {
          "output_type": "stream",
          "name": "stderr",
          "text": [
            "<ipython-input-7-6584a1e8cf52>:440: FutureWarning: The behavior of Series.idxmin with all-NA values, or any-NA and skipna=False, is deprecated. In a future version this will raise ValueError\n",
            "  plat = pd.to_numeric(df.loc[i, 'Steam Price' : 'XBOX Price']).idxmin()\n",
            "<ipython-input-7-6584a1e8cf52>:484: FutureWarning: The behavior of Series.idxmin with all-NA values, or any-NA and skipna=False, is deprecated. In a future version this will raise ValueError\n",
            "  min = pd.to_numeric(df.loc[i, 'Steam Min Price' : 'XBOX Min Price']).idxmin()\n"
          ]
        },
        {
          "output_type": "stream",
          "name": "stdout",
          "text": [
            "SUMMERHOUSE\n",
            "Sunderfolk\n"
          ]
        },
        {
          "output_type": "stream",
          "name": "stderr",
          "text": [
            "<ipython-input-7-6584a1e8cf52>:440: FutureWarning: The behavior of Series.idxmin with all-NA values, or any-NA and skipna=False, is deprecated. In a future version this will raise ValueError\n",
            "  plat = pd.to_numeric(df.loc[i, 'Steam Price' : 'XBOX Price']).idxmin()\n",
            "<ipython-input-7-6584a1e8cf52>:484: FutureWarning: The behavior of Series.idxmin with all-NA values, or any-NA and skipna=False, is deprecated. In a future version this will raise ValueError\n",
            "  min = pd.to_numeric(df.loc[i, 'Steam Min Price' : 'XBOX Min Price']).idxmin()\n"
          ]
        },
        {
          "output_type": "stream",
          "name": "stdout",
          "text": [
            "SUNLESS SEA\n",
            "Super Mario Bros.™ Wonder\n",
            "Super Mario Odyssey™\n",
            "Super Mario RPG™\n",
            "Super Mario™ 3D World + Bowser’s Fury\n"
          ]
        },
        {
          "output_type": "stream",
          "name": "stderr",
          "text": [
            "<ipython-input-7-6584a1e8cf52>:484: FutureWarning: The behavior of Series.idxmin with all-NA values, or any-NA and skipna=False, is deprecated. In a future version this will raise ValueError\n",
            "  min = pd.to_numeric(df.loc[i, 'Steam Min Price' : 'XBOX Min Price']).idxmin()\n"
          ]
        },
        {
          "output_type": "stream",
          "name": "stdout",
          "text": [
            "Surfpunk\n"
          ]
        },
        {
          "output_type": "stream",
          "name": "stderr",
          "text": [
            "<ipython-input-7-6584a1e8cf52>:440: FutureWarning: The behavior of Series.idxmin with all-NA values, or any-NA and skipna=False, is deprecated. In a future version this will raise ValueError\n",
            "  plat = pd.to_numeric(df.loc[i, 'Steam Price' : 'XBOX Price']).idxmin()\n",
            "<ipython-input-7-6584a1e8cf52>:484: FutureWarning: The behavior of Series.idxmin with all-NA values, or any-NA and skipna=False, is deprecated. In a future version this will raise ValueError\n",
            "  min = pd.to_numeric(df.loc[i, 'Steam Min Price' : 'XBOX Min Price']).idxmin()\n"
          ]
        },
        {
          "output_type": "stream",
          "name": "stdout",
          "text": [
            "Surviving Mars\n",
            "Suzerain\n",
            "Swordhaven: Iron Conspiracy\n",
            "SWORN\n"
          ]
        },
        {
          "output_type": "stream",
          "name": "stderr",
          "text": [
            "<ipython-input-7-6584a1e8cf52>:440: FutureWarning: The behavior of Series.idxmin with all-NA values, or any-NA and skipna=False, is deprecated. In a future version this will raise ValueError\n",
            "  plat = pd.to_numeric(df.loc[i, 'Steam Price' : 'XBOX Price']).idxmin()\n",
            "<ipython-input-7-6584a1e8cf52>:484: FutureWarning: The behavior of Series.idxmin with all-NA values, or any-NA and skipna=False, is deprecated. In a future version this will raise ValueError\n",
            "  min = pd.to_numeric(df.loc[i, 'Steam Min Price' : 'XBOX Min Price']).idxmin()\n"
          ]
        },
        {
          "output_type": "stream",
          "name": "stdout",
          "text": [
            "Syberia: The World Before\n",
            "Symbio\n"
          ]
        },
        {
          "output_type": "stream",
          "name": "stderr",
          "text": [
            "<ipython-input-7-6584a1e8cf52>:440: FutureWarning: The behavior of Series.idxmin with all-NA values, or any-NA and skipna=False, is deprecated. In a future version this will raise ValueError\n",
            "  plat = pd.to_numeric(df.loc[i, 'Steam Price' : 'XBOX Price']).idxmin()\n",
            "<ipython-input-7-6584a1e8cf52>:484: FutureWarning: The behavior of Series.idxmin with all-NA values, or any-NA and skipna=False, is deprecated. In a future version this will raise ValueError\n",
            "  min = pd.to_numeric(df.loc[i, 'Steam Min Price' : 'XBOX Min Price']).idxmin()\n"
          ]
        },
        {
          "output_type": "stream",
          "name": "stdout",
          "text": [
            "Symphony of War: The Nephilim Saga\n",
            "Synergy\n",
            "Tabletop Simulator\n",
            "Tactical Breach Wizards\n",
            "Taiji\n",
            "Tails Noir Preludes\n",
            "Tainted Grail: Conquest\n",
            "Tales from Centropolis\n"
          ]
        },
        {
          "output_type": "stream",
          "name": "stderr",
          "text": [
            "<ipython-input-7-6584a1e8cf52>:440: FutureWarning: The behavior of Series.idxmin with all-NA values, or any-NA and skipna=False, is deprecated. In a future version this will raise ValueError\n",
            "  plat = pd.to_numeric(df.loc[i, 'Steam Price' : 'XBOX Price']).idxmin()\n"
          ]
        },
        {
          "output_type": "stream",
          "name": "stdout",
          "text": [
            "Tales of Arise\n",
            "Tales of Seikyu\n"
          ]
        },
        {
          "output_type": "stream",
          "name": "stderr",
          "text": [
            "<ipython-input-7-6584a1e8cf52>:440: FutureWarning: The behavior of Series.idxmin with all-NA values, or any-NA and skipna=False, is deprecated. In a future version this will raise ValueError\n",
            "  plat = pd.to_numeric(df.loc[i, 'Steam Price' : 'XBOX Price']).idxmin()\n",
            "<ipython-input-7-6584a1e8cf52>:484: FutureWarning: The behavior of Series.idxmin with all-NA values, or any-NA and skipna=False, is deprecated. In a future version this will raise ValueError\n",
            "  min = pd.to_numeric(df.loc[i, 'Steam Min Price' : 'XBOX Min Price']).idxmin()\n"
          ]
        },
        {
          "output_type": "stream",
          "name": "stdout",
          "text": [
            "Tales of the Neon Sea\n",
            "Tavern Keeper 🍻\n"
          ]
        },
        {
          "output_type": "stream",
          "name": "stderr",
          "text": [
            "<ipython-input-7-6584a1e8cf52>:440: FutureWarning: The behavior of Series.idxmin with all-NA values, or any-NA and skipna=False, is deprecated. In a future version this will raise ValueError\n",
            "  plat = pd.to_numeric(df.loc[i, 'Steam Price' : 'XBOX Price']).idxmin()\n",
            "<ipython-input-7-6584a1e8cf52>:484: FutureWarning: The behavior of Series.idxmin with all-NA values, or any-NA and skipna=False, is deprecated. In a future version this will raise ValueError\n",
            "  min = pd.to_numeric(df.loc[i, 'Steam Min Price' : 'XBOX Min Price']).idxmin()\n"
          ]
        },
        {
          "output_type": "stream",
          "name": "stdout",
          "text": [
            "Tavern Master\n",
            "Teenage Mutant Ninja Turtles: Splintered Fate\n",
            "Temtem\n",
            "Temtem: Swarm\n",
            "Ten Thousand Coins: The Golden Merchant\n"
          ]
        },
        {
          "output_type": "stream",
          "name": "stderr",
          "text": [
            "<ipython-input-7-6584a1e8cf52>:440: FutureWarning: The behavior of Series.idxmin with all-NA values, or any-NA and skipna=False, is deprecated. In a future version this will raise ValueError\n",
            "  plat = pd.to_numeric(df.loc[i, 'Steam Price' : 'XBOX Price']).idxmin()\n",
            "<ipython-input-7-6584a1e8cf52>:484: FutureWarning: The behavior of Series.idxmin with all-NA values, or any-NA and skipna=False, is deprecated. In a future version this will raise ValueError\n",
            "  min = pd.to_numeric(df.loc[i, 'Steam Min Price' : 'XBOX Min Price']).idxmin()\n"
          ]
        },
        {
          "output_type": "stream",
          "name": "stdout",
          "text": [
            "Terra Memoria\n",
            "Terra Nil\n",
            "TerraScape\n",
            "Thank Goodness You're Here!\n",
            "The Alters\n"
          ]
        },
        {
          "output_type": "stream",
          "name": "stderr",
          "text": [
            "<ipython-input-7-6584a1e8cf52>:440: FutureWarning: The behavior of Series.idxmin with all-NA values, or any-NA and skipna=False, is deprecated. In a future version this will raise ValueError\n",
            "  plat = pd.to_numeric(df.loc[i, 'Steam Price' : 'XBOX Price']).idxmin()\n",
            "<ipython-input-7-6584a1e8cf52>:484: FutureWarning: The behavior of Series.idxmin with all-NA values, or any-NA and skipna=False, is deprecated. In a future version this will raise ValueError\n",
            "  min = pd.to_numeric(df.loc[i, 'Steam Min Price' : 'XBOX Min Price']).idxmin()\n"
          ]
        },
        {
          "output_type": "stream",
          "name": "stdout",
          "text": [
            "The Blackwell Legacy\n",
            "The Book of Unwritten Tales\n",
            "The Book of Unwritten Tales 2\n",
            "The Bookwalker: Thief of Tales\n",
            "The Bustling World\n"
          ]
        },
        {
          "output_type": "stream",
          "name": "stderr",
          "text": [
            "<ipython-input-7-6584a1e8cf52>:440: FutureWarning: The behavior of Series.idxmin with all-NA values, or any-NA and skipna=False, is deprecated. In a future version this will raise ValueError\n",
            "  plat = pd.to_numeric(df.loc[i, 'Steam Price' : 'XBOX Price']).idxmin()\n"
          ]
        },
        {
          "output_type": "stream",
          "name": "stdout",
          "text": [
            "The Case of the Golden Idol\n",
            "The Cosmic Wheel Sisterhood\n",
            "The Darkside Detective\n",
            "The Drifter\n"
          ]
        },
        {
          "output_type": "stream",
          "name": "stderr",
          "text": [
            "<ipython-input-7-6584a1e8cf52>:440: FutureWarning: The behavior of Series.idxmin with all-NA values, or any-NA and skipna=False, is deprecated. In a future version this will raise ValueError\n",
            "  plat = pd.to_numeric(df.loc[i, 'Steam Price' : 'XBOX Price']).idxmin()\n"
          ]
        },
        {
          "output_type": "stream",
          "name": "stdout",
          "text": [
            "The Excavation of Hob's Barrow\n",
            "The Gardens Between\n",
            "The Gecko Gods\n",
            "The Horror at Highrook\n"
          ]
        },
        {
          "output_type": "stream",
          "name": "stderr",
          "text": [
            "<ipython-input-7-6584a1e8cf52>:440: FutureWarning: The behavior of Series.idxmin with all-NA values, or any-NA and skipna=False, is deprecated. In a future version this will raise ValueError\n",
            "  plat = pd.to_numeric(df.loc[i, 'Steam Price' : 'XBOX Price']).idxmin()\n",
            "<ipython-input-7-6584a1e8cf52>:484: FutureWarning: The behavior of Series.idxmin with all-NA values, or any-NA and skipna=False, is deprecated. In a future version this will raise ValueError\n",
            "  min = pd.to_numeric(df.loc[i, 'Steam Min Price' : 'XBOX Min Price']).idxmin()\n"
          ]
        },
        {
          "output_type": "stream",
          "name": "stdout",
          "text": [
            "The Last Campfire\n",
            "The Last Flame\n",
            "The Last Spell\n",
            "The Legend of Heroes: Trails from Zero\n",
            "The Legend of Zelda™: Echoes of Wisdom\n",
            "The Life and Suffering of Sir Brante\n",
            "The Lion's Song\n",
            "The Mageseeker: A League of Legends Story™\n",
            "The Mermaid Mask\n"
          ]
        },
        {
          "output_type": "stream",
          "name": "stderr",
          "text": [
            "<ipython-input-7-6584a1e8cf52>:440: FutureWarning: The behavior of Series.idxmin with all-NA values, or any-NA and skipna=False, is deprecated. In a future version this will raise ValueError\n",
            "  plat = pd.to_numeric(df.loc[i, 'Steam Price' : 'XBOX Price']).idxmin()\n",
            "<ipython-input-7-6584a1e8cf52>:484: FutureWarning: The behavior of Series.idxmin with all-NA values, or any-NA and skipna=False, is deprecated. In a future version this will raise ValueError\n",
            "  min = pd.to_numeric(df.loc[i, 'Steam Min Price' : 'XBOX Min Price']).idxmin()\n"
          ]
        },
        {
          "output_type": "stream",
          "name": "stdout",
          "text": [
            "The Pale Beyond\n",
            "The Pedestrian\n",
            "The Posthumous Investigation\n"
          ]
        },
        {
          "output_type": "stream",
          "name": "stderr",
          "text": [
            "<ipython-input-7-6584a1e8cf52>:440: FutureWarning: The behavior of Series.idxmin with all-NA values, or any-NA and skipna=False, is deprecated. In a future version this will raise ValueError\n",
            "  plat = pd.to_numeric(df.loc[i, 'Steam Price' : 'XBOX Price']).idxmin()\n"
          ]
        },
        {
          "output_type": "stream",
          "name": "stdout",
          "text": [
            "The Red Strings Club\n",
            "The Rise of the Golden Idol\n",
            "The Royal Office of Magick Affairs\n"
          ]
        },
        {
          "output_type": "stream",
          "name": "stderr",
          "text": [
            "<ipython-input-7-6584a1e8cf52>:440: FutureWarning: The behavior of Series.idxmin with all-NA values, or any-NA and skipna=False, is deprecated. In a future version this will raise ValueError\n",
            "  plat = pd.to_numeric(df.loc[i, 'Steam Price' : 'XBOX Price']).idxmin()\n",
            "<ipython-input-7-6584a1e8cf52>:484: FutureWarning: The behavior of Series.idxmin with all-NA values, or any-NA and skipna=False, is deprecated. In a future version this will raise ValueError\n",
            "  min = pd.to_numeric(df.loc[i, 'Steam Min Price' : 'XBOX Min Price']).idxmin()\n"
          ]
        },
        {
          "output_type": "stream",
          "name": "stdout",
          "text": [
            "The Sinking City 2\n"
          ]
        },
        {
          "output_type": "stream",
          "name": "stderr",
          "text": [
            "<ipython-input-7-6584a1e8cf52>:440: FutureWarning: The behavior of Series.idxmin with all-NA values, or any-NA and skipna=False, is deprecated. In a future version this will raise ValueError\n",
            "  plat = pd.to_numeric(df.loc[i, 'Steam Price' : 'XBOX Price']).idxmin()\n",
            "<ipython-input-7-6584a1e8cf52>:484: FutureWarning: The behavior of Series.idxmin with all-NA values, or any-NA and skipna=False, is deprecated. In a future version this will raise ValueError\n",
            "  min = pd.to_numeric(df.loc[i, 'Steam Min Price' : 'XBOX Min Price']).idxmin()\n"
          ]
        },
        {
          "output_type": "stream",
          "name": "stdout",
          "text": [
            "The Spell Brigade\n",
            "The Thaumaturge\n",
            "The Way of Wrath\n"
          ]
        },
        {
          "output_type": "stream",
          "name": "stderr",
          "text": [
            "<ipython-input-7-6584a1e8cf52>:440: FutureWarning: The behavior of Series.idxmin with all-NA values, or any-NA and skipna=False, is deprecated. In a future version this will raise ValueError\n",
            "  plat = pd.to_numeric(df.loc[i, 'Steam Price' : 'XBOX Price']).idxmin()\n",
            "<ipython-input-7-6584a1e8cf52>:484: FutureWarning: The behavior of Series.idxmin with all-NA values, or any-NA and skipna=False, is deprecated. In a future version this will raise ValueError\n",
            "  min = pd.to_numeric(df.loc[i, 'Steam Min Price' : 'XBOX Min Price']).idxmin()\n"
          ]
        },
        {
          "output_type": "stream",
          "name": "stdout",
          "text": [
            "The White Raven\n"
          ]
        },
        {
          "output_type": "stream",
          "name": "stderr",
          "text": [
            "<ipython-input-7-6584a1e8cf52>:440: FutureWarning: The behavior of Series.idxmin with all-NA values, or any-NA and skipna=False, is deprecated. In a future version this will raise ValueError\n",
            "  plat = pd.to_numeric(df.loc[i, 'Steam Price' : 'XBOX Price']).idxmin()\n",
            "<ipython-input-7-6584a1e8cf52>:484: FutureWarning: The behavior of Series.idxmin with all-NA values, or any-NA and skipna=False, is deprecated. In a future version this will raise ValueError\n",
            "  min = pd.to_numeric(df.loc[i, 'Steam Min Price' : 'XBOX Min Price']).idxmin()\n"
          ]
        },
        {
          "output_type": "stream",
          "name": "stdout",
          "text": [
            "The Wild at Heart\n",
            "Thea: The Awakening\n",
            "TheoTown\n",
            "Thief Simulator\n",
            "Thief Simulator 2\n",
            "Thimbleweed Park\n",
            "This Bed We Made\n",
            "Those Who Rule\n"
          ]
        },
        {
          "output_type": "stream",
          "name": "stderr",
          "text": [
            "<ipython-input-7-6584a1e8cf52>:440: FutureWarning: The behavior of Series.idxmin with all-NA values, or any-NA and skipna=False, is deprecated. In a future version this will raise ValueError\n",
            "  plat = pd.to_numeric(df.loc[i, 'Steam Price' : 'XBOX Price']).idxmin()\n",
            "<ipython-input-7-6584a1e8cf52>:484: FutureWarning: The behavior of Series.idxmin with all-NA values, or any-NA and skipna=False, is deprecated. In a future version this will raise ValueError\n",
            "  min = pd.to_numeric(df.loc[i, 'Steam Min Price' : 'XBOX Min Price']).idxmin()\n"
          ]
        },
        {
          "output_type": "stream",
          "name": "stdout",
          "text": [
            "Throne of Bone\n",
            "Thronefall\n",
            "Timberborn\n",
            "Time Break Chronicles\n",
            "Timeflow – Life Sim\n",
            "Timelie\n",
            "Timemelters\n",
            "Tiny Bookshop\n"
          ]
        },
        {
          "output_type": "stream",
          "name": "stderr",
          "text": [
            "<ipython-input-7-6584a1e8cf52>:440: FutureWarning: The behavior of Series.idxmin with all-NA values, or any-NA and skipna=False, is deprecated. In a future version this will raise ValueError\n",
            "  plat = pd.to_numeric(df.loc[i, 'Steam Price' : 'XBOX Price']).idxmin()\n"
          ]
        },
        {
          "output_type": "stream",
          "name": "stdout",
          "text": [
            "Tiny Glade\n",
            "Tiny Terry's Turbo Trip\n",
            "Tinyfolks\n",
            "Tinykin\n",
            "Titan Quest Anniversary Edition\n",
            "To the Moon\n",
            "Tom the postgirl\n"
          ]
        },
        {
          "output_type": "stream",
          "name": "stderr",
          "text": [
            "<ipython-input-7-6584a1e8cf52>:440: FutureWarning: The behavior of Series.idxmin with all-NA values, or any-NA and skipna=False, is deprecated. In a future version this will raise ValueError\n",
            "  plat = pd.to_numeric(df.loc[i, 'Steam Price' : 'XBOX Price']).idxmin()\n"
          ]
        },
        {
          "output_type": "stream",
          "name": "stdout",
          "text": [
            "Tooth and Tail\n",
            "Torchlight II\n",
            "Tower of Time\n",
            "Townscaper\n",
            "Toxic Crusaders\n"
          ]
        },
        {
          "output_type": "stream",
          "name": "stderr",
          "text": [
            "<ipython-input-7-6584a1e8cf52>:440: FutureWarning: The behavior of Series.idxmin with all-NA values, or any-NA and skipna=False, is deprecated. In a future version this will raise ValueError\n",
            "  plat = pd.to_numeric(df.loc[i, 'Steam Price' : 'XBOX Price']).idxmin()\n"
          ]
        },
        {
          "output_type": "stream",
          "name": "stdout",
          "text": [
            "Travellers Rest\n",
            "Trials of Fire\n",
            "Trials of Mana\n",
            "TRIANGLE STRATEGY\n",
            "Trine 5: A Clockwork Conspiracy\n",
            "Tropico 4\n",
            "Tropico 6\n",
            "Troublemaker\n",
            "TSIOQUE\n",
            "Two Point Hospital\n",
            "Tyranny\n",
            "Unavowed\n",
            "Unboxing the Cryptic Killer\n",
            "UNCHARTED™: Legacy of Thieves Collection\n",
            "Undead Horde\n",
            "Undead Horde 2: Necropolis\n",
            "Under The Island\n"
          ]
        },
        {
          "output_type": "stream",
          "name": "stderr",
          "text": [
            "<ipython-input-7-6584a1e8cf52>:440: FutureWarning: The behavior of Series.idxmin with all-NA values, or any-NA and skipna=False, is deprecated. In a future version this will raise ValueError\n",
            "  plat = pd.to_numeric(df.loc[i, 'Steam Price' : 'XBOX Price']).idxmin()\n",
            "<ipython-input-7-6584a1e8cf52>:484: FutureWarning: The behavior of Series.idxmin with all-NA values, or any-NA and skipna=False, is deprecated. In a future version this will raise ValueError\n",
            "  min = pd.to_numeric(df.loc[i, 'Steam Min Price' : 'XBOX Min Price']).idxmin()\n"
          ]
        },
        {
          "output_type": "stream",
          "name": "stdout",
          "text": [
            "UnderRail\n",
            "Undertale\n",
            "UNDYING\n",
            "Unforeseen Incidents\n",
            "Union of Gnomes\n",
            "Untraveled Lands: Chantico\n"
          ]
        },
        {
          "output_type": "stream",
          "name": "stderr",
          "text": [
            "<ipython-input-7-6584a1e8cf52>:440: FutureWarning: The behavior of Series.idxmin with all-NA values, or any-NA and skipna=False, is deprecated. In a future version this will raise ValueError\n",
            "  plat = pd.to_numeric(df.loc[i, 'Steam Price' : 'XBOX Price']).idxmin()\n",
            "<ipython-input-7-6584a1e8cf52>:484: FutureWarning: The behavior of Series.idxmin with all-NA values, or any-NA and skipna=False, is deprecated. In a future version this will raise ValueError\n",
            "  min = pd.to_numeric(df.loc[i, 'Steam Min Price' : 'XBOX Min Price']).idxmin()\n"
          ]
        },
        {
          "output_type": "stream",
          "name": "stdout",
          "text": [
            "Unusual Findings\n",
            "Upheaval\n"
          ]
        },
        {
          "output_type": "stream",
          "name": "stderr",
          "text": [
            "<ipython-input-7-6584a1e8cf52>:440: FutureWarning: The behavior of Series.idxmin with all-NA values, or any-NA and skipna=False, is deprecated. In a future version this will raise ValueError\n",
            "  plat = pd.to_numeric(df.loc[i, 'Steam Price' : 'XBOX Price']).idxmin()\n",
            "<ipython-input-7-6584a1e8cf52>:484: FutureWarning: The behavior of Series.idxmin with all-NA values, or any-NA and skipna=False, is deprecated. In a future version this will raise ValueError\n",
            "  min = pd.to_numeric(df.loc[i, 'Steam Min Price' : 'XBOX Min Price']).idxmin()\n"
          ]
        },
        {
          "output_type": "stream",
          "name": "stdout",
          "text": [
            "Urban Strife\n",
            "Us United : COOP DECKBUILDER\n"
          ]
        },
        {
          "output_type": "stream",
          "name": "stderr",
          "text": [
            "<ipython-input-7-6584a1e8cf52>:440: FutureWarning: The behavior of Series.idxmin with all-NA values, or any-NA and skipna=False, is deprecated. In a future version this will raise ValueError\n",
            "  plat = pd.to_numeric(df.loc[i, 'Steam Price' : 'XBOX Price']).idxmin()\n",
            "<ipython-input-7-6584a1e8cf52>:484: FutureWarning: The behavior of Series.idxmin with all-NA values, or any-NA and skipna=False, is deprecated. In a future version this will raise ValueError\n",
            "  min = pd.to_numeric(df.loc[i, 'Steam Min Price' : 'XBOX Min Price']).idxmin()\n"
          ]
        },
        {
          "output_type": "stream",
          "name": "stdout",
          "text": [
            "Valheim (Game Preview)\n",
            "Vellum\n",
            "Voltaire: The Vegan Vampire\n",
            "Voodoo Detective\n",
            "Voyagers of Nera\n"
          ]
        },
        {
          "output_type": "stream",
          "name": "stderr",
          "text": [
            "<ipython-input-7-6584a1e8cf52>:440: FutureWarning: The behavior of Series.idxmin with all-NA values, or any-NA and skipna=False, is deprecated. In a future version this will raise ValueError\n",
            "  plat = pd.to_numeric(df.loc[i, 'Steam Price' : 'XBOX Price']).idxmin()\n",
            "<ipython-input-7-6584a1e8cf52>:484: FutureWarning: The behavior of Series.idxmin with all-NA values, or any-NA and skipna=False, is deprecated. In a future version this will raise ValueError\n",
            "  min = pd.to_numeric(df.loc[i, 'Steam Min Price' : 'XBOX Min Price']).idxmin()\n"
          ]
        },
        {
          "output_type": "stream",
          "name": "stdout",
          "text": [
            "Wander Stars\n"
          ]
        },
        {
          "output_type": "stream",
          "name": "stderr",
          "text": [
            "<ipython-input-7-6584a1e8cf52>:440: FutureWarning: The behavior of Series.idxmin with all-NA values, or any-NA and skipna=False, is deprecated. In a future version this will raise ValueError\n",
            "  plat = pd.to_numeric(df.loc[i, 'Steam Price' : 'XBOX Price']).idxmin()\n",
            "<ipython-input-7-6584a1e8cf52>:484: FutureWarning: The behavior of Series.idxmin with all-NA values, or any-NA and skipna=False, is deprecated. In a future version this will raise ValueError\n",
            "  min = pd.to_numeric(df.loc[i, 'Steam Min Price' : 'XBOX Min Price']).idxmin()\n"
          ]
        },
        {
          "output_type": "stream",
          "name": "stdout",
          "text": [
            "Wandering Sword\n",
            "Wantless : Solace at World’s End\n",
            "War for the Overworld\n",
            "Warhammer 40,000: Rogue Trader\n",
            "WarioWare™: Move It!\n",
            "Warsim: The Realm of Aslona\n",
            "Wartales\n",
            "We Need To Go Deeper\n",
            "We Stay Behind\n"
          ]
        },
        {
          "output_type": "stream",
          "name": "stderr",
          "text": [
            "<ipython-input-7-6584a1e8cf52>:440: FutureWarning: The behavior of Series.idxmin with all-NA values, or any-NA and skipna=False, is deprecated. In a future version this will raise ValueError\n",
            "  plat = pd.to_numeric(df.loc[i, 'Steam Price' : 'XBOX Price']).idxmin()\n",
            "<ipython-input-7-6584a1e8cf52>:484: FutureWarning: The behavior of Series.idxmin with all-NA values, or any-NA and skipna=False, is deprecated. In a future version this will raise ValueError\n",
            "  min = pd.to_numeric(df.loc[i, 'Steam Min Price' : 'XBOX Min Price']).idxmin()\n"
          ]
        },
        {
          "output_type": "stream",
          "name": "stdout",
          "text": [
            "We Were Here Forever\n",
            "We Who Are About To Die\n",
            "West Hunt\n",
            "West of Loathing\n",
            "Wheel World\n"
          ]
        },
        {
          "output_type": "stream",
          "name": "stderr",
          "text": [
            "<ipython-input-7-6584a1e8cf52>:440: FutureWarning: The behavior of Series.idxmin with all-NA values, or any-NA and skipna=False, is deprecated. In a future version this will raise ValueError\n",
            "  plat = pd.to_numeric(df.loc[i, 'Steam Price' : 'XBOX Price']).idxmin()\n",
            "<ipython-input-7-6584a1e8cf52>:484: FutureWarning: The behavior of Series.idxmin with all-NA values, or any-NA and skipna=False, is deprecated. In a future version this will raise ValueError\n",
            "  min = pd.to_numeric(df.loc[i, 'Steam Min Price' : 'XBOX Min Price']).idxmin()\n"
          ]
        },
        {
          "output_type": "stream",
          "name": "stdout",
          "text": [
            "Whimside\n"
          ]
        },
        {
          "output_type": "stream",
          "name": "stderr",
          "text": [
            "<ipython-input-7-6584a1e8cf52>:440: FutureWarning: The behavior of Series.idxmin with all-NA values, or any-NA and skipna=False, is deprecated. In a future version this will raise ValueError\n",
            "  plat = pd.to_numeric(df.loc[i, 'Steam Price' : 'XBOX Price']).idxmin()\n"
          ]
        },
        {
          "output_type": "stream",
          "name": "stdout",
          "text": [
            "Whispers of the Eyeless\n"
          ]
        },
        {
          "output_type": "stream",
          "name": "stderr",
          "text": [
            "<ipython-input-7-6584a1e8cf52>:440: FutureWarning: The behavior of Series.idxmin with all-NA values, or any-NA and skipna=False, is deprecated. In a future version this will raise ValueError\n",
            "  plat = pd.to_numeric(df.loc[i, 'Steam Price' : 'XBOX Price']).idxmin()\n"
          ]
        },
        {
          "output_type": "stream",
          "name": "stdout",
          "text": [
            "Wicked Lands\n"
          ]
        },
        {
          "output_type": "stream",
          "name": "stderr",
          "text": [
            "<ipython-input-7-6584a1e8cf52>:440: FutureWarning: The behavior of Series.idxmin with all-NA values, or any-NA and skipna=False, is deprecated. In a future version this will raise ValueError\n",
            "  plat = pd.to_numeric(df.loc[i, 'Steam Price' : 'XBOX Price']).idxmin()\n",
            "<ipython-input-7-6584a1e8cf52>:484: FutureWarning: The behavior of Series.idxmin with all-NA values, or any-NA and skipna=False, is deprecated. In a future version this will raise ValueError\n",
            "  min = pd.to_numeric(df.loc[i, 'Steam Min Price' : 'XBOX Min Price']).idxmin()\n"
          ]
        },
        {
          "output_type": "stream",
          "name": "stdout",
          "text": [
            "Wild City\n"
          ]
        },
        {
          "output_type": "stream",
          "name": "stderr",
          "text": [
            "<ipython-input-7-6584a1e8cf52>:440: FutureWarning: The behavior of Series.idxmin with all-NA values, or any-NA and skipna=False, is deprecated. In a future version this will raise ValueError\n",
            "  plat = pd.to_numeric(df.loc[i, 'Steam Price' : 'XBOX Price']).idxmin()\n",
            "<ipython-input-7-6584a1e8cf52>:484: FutureWarning: The behavior of Series.idxmin with all-NA values, or any-NA and skipna=False, is deprecated. In a future version this will raise ValueError\n",
            "  min = pd.to_numeric(df.loc[i, 'Steam Min Price' : 'XBOX Min Price']).idxmin()\n"
          ]
        },
        {
          "output_type": "stream",
          "name": "stdout",
          "text": [
            "WILD Tactics\n"
          ]
        },
        {
          "output_type": "stream",
          "name": "stderr",
          "text": [
            "<ipython-input-7-6584a1e8cf52>:440: FutureWarning: The behavior of Series.idxmin with all-NA values, or any-NA and skipna=False, is deprecated. In a future version this will raise ValueError\n",
            "  plat = pd.to_numeric(df.loc[i, 'Steam Price' : 'XBOX Price']).idxmin()\n",
            "<ipython-input-7-6584a1e8cf52>:484: FutureWarning: The behavior of Series.idxmin with all-NA values, or any-NA and skipna=False, is deprecated. In a future version this will raise ValueError\n",
            "  min = pd.to_numeric(df.loc[i, 'Steam Min Price' : 'XBOX Min Price']).idxmin()\n"
          ]
        },
        {
          "output_type": "stream",
          "name": "stdout",
          "text": [
            "Windblown\n",
            "Windswept\n"
          ]
        },
        {
          "output_type": "stream",
          "name": "stderr",
          "text": [
            "<ipython-input-7-6584a1e8cf52>:440: FutureWarning: The behavior of Series.idxmin with all-NA values, or any-NA and skipna=False, is deprecated. In a future version this will raise ValueError\n",
            "  plat = pd.to_numeric(df.loc[i, 'Steam Price' : 'XBOX Price']).idxmin()\n",
            "<ipython-input-7-6584a1e8cf52>:484: FutureWarning: The behavior of Series.idxmin with all-NA values, or any-NA and skipna=False, is deprecated. In a future version this will raise ValueError\n",
            "  min = pd.to_numeric(df.loc[i, 'Steam Min Price' : 'XBOX Min Price']).idxmin()\n"
          ]
        },
        {
          "output_type": "stream",
          "name": "stdout",
          "text": [
            "Windward\n",
            "Wintermoor Tactics Club\n",
            "Witchbrook\n"
          ]
        },
        {
          "output_type": "stream",
          "name": "stderr",
          "text": [
            "<ipython-input-7-6584a1e8cf52>:440: FutureWarning: The behavior of Series.idxmin with all-NA values, or any-NA and skipna=False, is deprecated. In a future version this will raise ValueError\n",
            "  plat = pd.to_numeric(df.loc[i, 'Steam Price' : 'XBOX Price']).idxmin()\n",
            "<ipython-input-7-6584a1e8cf52>:484: FutureWarning: The behavior of Series.idxmin with all-NA values, or any-NA and skipna=False, is deprecated. In a future version this will raise ValueError\n",
            "  min = pd.to_numeric(df.loc[i, 'Steam Min Price' : 'XBOX Min Price']).idxmin()\n"
          ]
        },
        {
          "output_type": "stream",
          "name": "stdout",
          "text": [
            "WitchSpring R\n",
            "Withering Rooms\n",
            "Wizard with a Gun\n",
            "WolfQuest: Anniversary Edition\n",
            "Worlds of Aria\n",
            "Worshippers of Cthulhu\n",
            "Yakuza Empire\n"
          ]
        },
        {
          "output_type": "stream",
          "name": "stderr",
          "text": [
            "<ipython-input-7-6584a1e8cf52>:440: FutureWarning: The behavior of Series.idxmin with all-NA values, or any-NA and skipna=False, is deprecated. In a future version this will raise ValueError\n",
            "  plat = pd.to_numeric(df.loc[i, 'Steam Price' : 'XBOX Price']).idxmin()\n",
            "<ipython-input-7-6584a1e8cf52>:484: FutureWarning: The behavior of Series.idxmin with all-NA values, or any-NA and skipna=False, is deprecated. In a future version this will raise ValueError\n",
            "  min = pd.to_numeric(df.loc[i, 'Steam Min Price' : 'XBOX Min Price']).idxmin()\n"
          ]
        },
        {
          "output_type": "stream",
          "name": "stdout",
          "text": [
            "Yes, Your Grace\n",
            "Yield! Fall of Rome\n"
          ]
        },
        {
          "output_type": "stream",
          "name": "stderr",
          "text": [
            "<ipython-input-7-6584a1e8cf52>:440: FutureWarning: The behavior of Series.idxmin with all-NA values, or any-NA and skipna=False, is deprecated. In a future version this will raise ValueError\n",
            "  plat = pd.to_numeric(df.loc[i, 'Steam Price' : 'XBOX Price']).idxmin()\n"
          ]
        },
        {
          "output_type": "stream",
          "name": "stdout",
          "text": [
            "Yonder: The Cloud Catcher Chronicles\n",
            "Zet Zillions\n",
            "Zodiac Legion\n"
          ]
        },
        {
          "output_type": "stream",
          "name": "stderr",
          "text": [
            "<ipython-input-7-6584a1e8cf52>:440: FutureWarning: The behavior of Series.idxmin with all-NA values, or any-NA and skipna=False, is deprecated. In a future version this will raise ValueError\n",
            "  plat = pd.to_numeric(df.loc[i, 'Steam Price' : 'XBOX Price']).idxmin()\n",
            "<ipython-input-7-6584a1e8cf52>:484: FutureWarning: The behavior of Series.idxmin with all-NA values, or any-NA and skipna=False, is deprecated. In a future version this will raise ValueError\n",
            "  min = pd.to_numeric(df.loc[i, 'Steam Min Price' : 'XBOX Min Price']).idxmin()\n"
          ]
        },
        {
          "output_type": "stream",
          "name": "stdout",
          "text": [
            "Inferius\n"
          ]
        },
        {
          "output_type": "stream",
          "name": "stderr",
          "text": [
            "<ipython-input-7-6584a1e8cf52>:440: FutureWarning: The behavior of Series.idxmin with all-NA values, or any-NA and skipna=False, is deprecated. In a future version this will raise ValueError\n",
            "  plat = pd.to_numeric(df.loc[i, 'Steam Price' : 'XBOX Price']).idxmin()\n",
            "<ipython-input-7-6584a1e8cf52>:484: FutureWarning: The behavior of Series.idxmin with all-NA values, or any-NA and skipna=False, is deprecated. In a future version this will raise ValueError\n",
            "  min = pd.to_numeric(df.loc[i, 'Steam Min Price' : 'XBOX Min Price']).idxmin()\n"
          ]
        },
        {
          "output_type": "stream",
          "name": "stdout",
          "text": [
            "Preserve\n",
            "Two Point Museum\n",
            "What Never Was: Chapter II\n"
          ]
        },
        {
          "output_type": "stream",
          "name": "stderr",
          "text": [
            "<ipython-input-7-6584a1e8cf52>:440: FutureWarning: The behavior of Series.idxmin with all-NA values, or any-NA and skipna=False, is deprecated. In a future version this will raise ValueError\n",
            "  plat = pd.to_numeric(df.loc[i, 'Steam Price' : 'XBOX Price']).idxmin()\n",
            "<ipython-input-7-6584a1e8cf52>:484: FutureWarning: The behavior of Series.idxmin with all-NA values, or any-NA and skipna=False, is deprecated. In a future version this will raise ValueError\n",
            "  min = pd.to_numeric(df.loc[i, 'Steam Min Price' : 'XBOX Min Price']).idxmin()\n",
            "<ipython-input-7-6584a1e8cf52>:556: FutureWarning: Downcasting object dtype arrays on .fillna, .ffill, .bfill is deprecated and will change in a future version. Call result.infer_objects(copy=False) instead. To opt-in to the future behavior, set `pd.set_option('future.no_silent_downcasting', True)`\n",
            "  df = df.fillna('')\n",
            "<ipython-input-7-6584a1e8cf52>:566: DeprecationWarning: The order of arguments in worksheet.update() has changed. Please pass values first and range_name secondor used named arguments (range_name=, values=)\n",
            "  sheet.update('A1', arr)\n"
          ]
        },
        {
          "output_type": "execute_result",
          "data": {
            "text/plain": [
              "{'spreadsheetId': '1Wt1IuEkaQY-0ajwGR2SemfKuVJ4HO5D41rJHUXm-lQY',\n",
              " 'updatedRange': \"'Video Games'!A1:BE637\",\n",
              " 'updatedRows': 637,\n",
              " 'updatedColumns': 57,\n",
              " 'updatedCells': 36309}"
            ]
          },
          "metadata": {},
          "execution_count": 7
        }
      ],
      "source": [
        "# Pull in important Twilio creds from Excel sheet\n",
        "# twil_data = pd.read_excel('/content/drive/MyDrive/Python Projects/twil_data.xlsx')\n",
        "\n",
        "# Set Twilio variables needed to send a message\n",
        "# account_sid = twil_data.iloc[0]['account_sid']\n",
        "# auth_token = twil_data.iloc[0]['auth_token']\n",
        "# client = Client(account_sid, auth_token)\n",
        "\n",
        "# Create an error indicator\n",
        "# error = False\n",
        "\n",
        "# Send an SMS to indicate not to change the sheet\n",
        "# try :\n",
        "#   message = client.messages.create(\n",
        "#     body=\"The video game script is running. Do not make any changes to the spreadsheet.\",\n",
        "#     from_='+' + str(twil_data.loc[0]['from_phone_num']),\n",
        "#     to='+' + str(twil_data.loc[0]['to_phone_num']))\n",
        "# except :\n",
        "#   print('Cannot send initialization SMS \\n')\n",
        "#   error = True\n",
        "\n",
        "# Choose workbook and sheets to pull/update data\n",
        "sheet = gc.open('games n\\' gifts').worksheet('Video Games')\n",
        "game_pass = gc.open('Game Pass Master List').worksheet('Master List')\n",
        "giveaways = gc.open('Video Game Giveaways').worksheet('All')\n",
        "\n",
        "# Create dataframe of all G Sheet records\n",
        "df = pd.DataFrame(sheet.get_all_records())\n",
        "gp_df = pd.DataFrame(game_pass.get('A3:Q'), columns = game_pass.get('A2:Q2')[0]).drop_duplicates(subset=['Game'])\n",
        "g_df = pd.DataFrame(giveaways.get_all_records()).drop_duplicates(subset=['Name'])\n",
        "\n",
        "# Join data together on name (drop key_0 column as it throws an error) for Game Pass Data and Giveaway data\n",
        "merged_df = df.merge(gp_df, how='left', left_on=df['Name'], right_on=gp_df['Game'])\n",
        "merged_df = merged_df.drop(columns=['key_0'])\n",
        "merged_df = merged_df.merge(g_df, how='left', left_on=merged_df['Name'], right_on=g_df['Name'], suffixes=['_original','_epic'])\n",
        "merged_df = merged_df.drop(columns=['key_0'])\n",
        "\n",
        "# Replace empty strings with Null for numeric data\n",
        "df[['Steam Price', 'Switch Price', 'XBOX Price', 'Min Price',\n",
        "    'Steam Min Price', 'Switch Min Price', 'XBOX Min Price', 'Deku Min Price',\n",
        "    'Current Highest Discount %']] = df[['Steam Price', 'Switch Price', 'XBOX Price', 'Min Price',\n",
        "                                         'Steam Min Price', 'Switch Min Price', 'XBOX Min Price',\n",
        "                                         'Deku Min Price','Current Highest Discount %']].replace('',float(np.nan))\n",
        "\n",
        "# Create discount dataframe for Twilio message\n",
        "# discount_df = pd.DataFrame(columns=['Name', 'System', 'Discount Percent', 'Current Price', 'Link'])\n",
        "\n",
        "# Blank out all checks\n",
        "df['Check'] = ''\n",
        "\n",
        "# Create a session and update headers\n",
        "sesh = requests.Session()\n",
        "sesh.headers.update({'User-Agent' : 'Mozilla/5.0'})\n",
        "\n",
        "# Parse data from DekuDeals.com on historic lowest price and how long to beat if missing\n",
        "def getDekuData(soup, i) :\n",
        "  for j in soup.find_all('td', {'class' : 'text-right pl-3'}) :\n",
        "    if j.text is not None and j.text.strip()[1:] != '' :\n",
        "      price = float(j.text.strip()[1:].replace('ree','0').replace(',', '.'))\n",
        "      if price < df.loc[i]['Deku Min Price'] :\n",
        "        df.at[i, 'Deku Min Price'] = price\n",
        "  if df.loc[i]['How Long to Beat'] == '' :\n",
        "    for p in soup.find_all('a') :\n",
        "      if p.text == 'How Long To Beat' :\n",
        "        hltb = p.parent.next_sibling.next_sibling.text\n",
        "        hltb = hltb[hltb.find(':')+2:hltb.find('hour')].strip()\n",
        "        if '½' in hltb :\n",
        "          hltb = float(hltb[:hltb.find('½')]) + 0.5\n",
        "        else :\n",
        "          hltb = float(hltb)\n",
        "        df.at[i, 'How Long to Beat'] = hltb\n",
        "  if soup.find('a', {'class' : 'metacritic'}) is not None :\n",
        "    if soup.find('a', {'class' : 'metacritic'}).find('span').text != 'tbd' :\n",
        "      df.at[i, 'Metacritic Rating (Deku)'] = int(soup.find('a', {'class' : 'metacritic'}).find('span').text)\n",
        "\n",
        "def getHowLong (i, soup) :\n",
        "  try :\n",
        "    hltb = soup.find('div', {'class' : 'how-long-to-beat-single'}).find('span', {'class' : 'value'}).text.strip()\n",
        "    df.at[i, 'How Long to Beat'] = int(hltb[:hltb.find('h')]) + round(int(hltb[hltb.find('h')+1:-1].strip())/60,1)\n",
        "  except :\n",
        "    pass\n",
        "\n",
        "def getggData(i, console, link) :\n",
        "  try :\n",
        "    soup = BeautifulSoup(sesh.get(link).content, 'lxml')\n",
        "    if df.loc[i]['GG Deals ' + console + ' Link'] == '' :\n",
        "      df.at[i, 'GG Deals ' + console + ' Link'] = link\n",
        "    if soup.find('span', {'class' : 'expired lowest-recorded price-hl price'}) is not None :\n",
        "      try :\n",
        "        df.at[i, console + ' Min Price'] = float(soup.find('span', {'class' : 'expired lowest-recorded price-hl price'}).find('span', {'class' : 'price-inner numeric'}).text.strip()[1:].replace('ree', '0'))\n",
        "      except :\n",
        "        df.at[i, console + ' Min Price'] = float(soup.find('span', {'class' : 'expired lowest-recorded price-hl price'}).find('span', {'class' : 'price-inner numeric'}).text.strip()[2:].replace('ee', '0'))\n",
        "    elif soup.find('a', {'href' : '#official-stores'}) is not None:\n",
        "      if soup.find('a', {'href' : '#official-stores'}).find('span', {'class' : 'price-inner numeric'}) is not None :\n",
        "        df.at[i, console + ' Min Price'] = float(soup.find('a', {'href' : '#official-stores'}).find('span', {'class' : 'price-inner numeric'}).text.strip()[1:].replace('ree', '0'))\n",
        "    elif soup.find('span', {'class' : 'lowest-recorded price-hl price'}) is not None:\n",
        "      df.at[i, console + ' Min Price'] = float(soup.find('span', {'class' : 'lowest-recorded price-hl price'}).find('span', {'class' : 'price-inner numeric'}).text.strip()[1:].replace('ree', '0'))\n",
        "    else :\n",
        "      pass\n",
        "    getHowLong(i, soup)\n",
        "  except :\n",
        "    df.at[i, 'Check'] = 'GG Deals error for ' + console\n",
        "\n",
        "def replaceChar(name):\n",
        "    for c in [':','&', '_', ',', '™', '!', '-', '+','\\'','.'] :\n",
        "        name = name.replace(c, '')\n",
        "    name = name.replace(' ', '-')\n",
        "    name = name.replace('--', '-')\n",
        "    name = name.replace('---', '-')\n",
        "    return name\n",
        "\n",
        "def getXboxLink(i) :\n",
        "  e = ['-xbox-pc', '-xbox-one', '-xbox-one-series', '-xbox-series', '-xbox-series-pc', '-xbox-360']\n",
        "  for suffix in e :\n",
        "    if requests.get('https://gg.deals/game/' + replaceChar(df.loc[i]['Name'] + suffix)).status_code == 200 :\n",
        "      getggData(i, 'XBOX', 'https://gg.deals/game/' + replaceChar(df.loc[i]['Name'] + suffix))\n",
        "      break\n",
        "\n",
        "# Update the discount data frame if the price of an item has dropped\n",
        "# def updateDiscountDf(old_price, console, i, discount_df) :\n",
        "#   if df.loc[i][console + ' Price'] != '' :\n",
        "#     if old_price > df.loc[i][console + ' Price'] :\n",
        "#       discount_percent = str(round(((old_price - df.loc[i][console+ ' Price']) / old_price) * 100)) + '%'\n",
        "#       s = df.loc[i, ['Name', console + ' Price', console + ' Link']].rename({console + ' Price': 'Current Price', console + ' Link': 'Link'})\n",
        "#       s = pd.concat([s, pd.Series({'System': console, 'Discount Percent' : discount_percent})])\n",
        "#       discount_df = pd.concat([discount_df, s.to_frame().T], ignore_index=True)\n",
        "\n",
        "# Iterate through all rows of the dataframe. Update dataframe and G Sheet with values from websites\n",
        "for i in df.index:\n",
        "  print(df.loc[i]['Name'])\n",
        "  # -----------------------------------------------------Steam---------------------------------------------------------#\n",
        "  # See if there is a steam link and update data\n",
        "  if df.loc[i]['Steam Link'] != '':\n",
        "    # Create BS of data from Steam Link\n",
        "    soup = BeautifulSoup(requests.get(df.loc[i]['Steam Link'] + '?cc=us').content, 'lxml')\n",
        "    steam_old_price = df.loc[i]['Steam Price']\n",
        "\n",
        "    # Update name if blank\n",
        "    if df.loc[i]['Name'] == '':\n",
        "      df.at[i, 'Name'] = soup.find('span', {'itemprop': 'name'}).text\n",
        "\n",
        "    # Update the price in the data frame if present\n",
        "    if soup.find('meta', {'itemprop': 'price'}) is not None :\n",
        "      df.at[i, 'Steam Price'] = float(soup.find('meta', {'itemprop': 'price'})['content'])\n",
        "    elif soup.find('div', {'class': 'price bundle_final_price_with_discount'}) is not None :\n",
        "      df.at[i, 'Steam Price'] = float(soup.find('div', {'class': 'price bundle_final_price_with_discount'}).text[1:])\n",
        "      steam_msrp = float(soup.find('div', {'class' : 'discount_original_price'}).text[1:])\n",
        "\n",
        "    #Update min price if there wasn't a min price\n",
        "    if steam_old_price == '' :\n",
        "      df.at[i, 'Steam Min Price'] == df.loc[i]['Steam Price']\n",
        "\n",
        "    # Find Steam discount percentage\n",
        "    if soup.find('div', {'class' : 'discount_pct'}) :\n",
        "      df.at[i, 'Steam Discount'] = int(soup.find('div', {'class' : 'discount_pct'}).text[1:-1])\n",
        "\n",
        "    #updateDiscountDf(steam_old_price, 'Steam', i, discount_df)\n",
        "\n",
        "    # If there is a sale, find the end date\n",
        "    try :\n",
        "      if soup.find('p', {'class': 'game_purchase_discount_countdown'}) is not None:\n",
        "        sale_end = soup.find('p', {'class': 'game_purchase_discount_countdown'}).text\n",
        "        if sale_end.find('Offer ends in') > -1:\n",
        "          sale_end = dt.today()\n",
        "        else:\n",
        "          sale_end = dt.strptime(sale_end[sale_end.find('Offer ends') + 11:], '%B %d')\n",
        "          sale_end = sale_end.replace(year=dt.now().year)\n",
        "        df.at[i, 'Steam Sale End'] = sale_end.strftime('%m/%d/%Y')\n",
        "      else:\n",
        "        df.at[i, 'Steam Sale End'] = ''\n",
        "        df.at[i, 'Steam Discount'] = ''\n",
        "    except :\n",
        "      df.at [i, 'Check'] = 'Steam Sale Date Error'\n",
        "\n",
        "    # Update Steam review string\n",
        "    if soup.find('span', {'class': 'game_review_summary_positive', 'itemprop': 'description'}) is not None:\n",
        "      df.at[i, 'Steam Reviews'] = soup.find('span', {'class': 'game_review_summary_positive',\n",
        "                                                        'itemprop': 'description'}).text\n",
        "    elif soup.find('span', {'class': 'game_review_summary positive', 'itemprop': 'description'}) is not None:\n",
        "      df.at[i, 'Steam Reviews'] = soup.find('span', {'class': 'game_review_summary positive',\n",
        "                                                        'itemprop': 'description'}).text\n",
        "    elif soup.find('span', {'class': 'game_review_summary mixed'}) is not None:\n",
        "      df.at[i, 'Steam Reviews'] = soup.find('span', {'class': 'game_review_summary mixed'}).text\n",
        "\n",
        "    # Add important tags/traits - Split Screen, Controller Support, Game Type\n",
        "    if df.loc[i]['Type'] == '' :\n",
        "      labels = ''\n",
        "      tags = []\n",
        "      for j in soup.find_all('div', {'class': 'label'}):\n",
        "        labels = labels + '/' + j.text\n",
        "      if 'Shared/Split' in labels:\n",
        "        df.at[i, 'Steam Local Multiplayer'] = 'x'\n",
        "      if 'controller support' in labels.lower():\n",
        "        s = labels[0:labels.lower().find('controller') - 1]\n",
        "        s = s[s.rfind('/') + 1:]\n",
        "        df.at[i, 'Steam Controller Support'] = s\n",
        "      for k in soup.find_all('a', {'class': 'app_tag'}):\n",
        "        tags.append(k.text.strip() + '/')\n",
        "      df.at[i, 'Type'] = ''.join(tags[0:4])[:-1]\n",
        "\n",
        "    # Find # of reviews\n",
        "    if soup.find('meta', {'itemprop': 'reviewCount'}) is not None:\n",
        "      df.at[i, 'Steam # of Reviews'] = int(soup.find('meta', {'itemprop': 'reviewCount'})['content'])\n",
        "\n",
        "    # Find Positive review %\n",
        "    if soup.find('span', {'class': 'responsive_reviewdesc_short'}) is not None:\n",
        "      s = soup.find('span', {'class': 'responsive_reviewdesc_short'}).text.strip()[1:]\n",
        "      if s[:s.find('%')].isnumeric():\n",
        "        df.at[i, 'Steam % Positive Reviews'] = int(s[:s.find('%')])\n",
        "\n",
        "    # Find category of Steam Deck Compatibility and update if applicable\n",
        "    try :\n",
        "      deck_dict = json.loads(soup.find(id='application_config').get('data-deckcompatibility'))\n",
        "      if deck_dict['resolved_category'] == 1:\n",
        "        df.at[i, 'Steam Deck Compatibility'] = 'Unsupported'\n",
        "        df.at[i, 'Manual Steam Deck Verification'] = 'N'\n",
        "      elif deck_dict['resolved_category'] == 3:\n",
        "        df.at[i, 'Steam Deck Compatibility'] = 'Verified'\n",
        "        df.at[i, 'Manual Steam Deck Verification'] = 'Y'\n",
        "      elif deck_dict['resolved_category'] == 2:\n",
        "        df.at[i, 'Steam Deck Compatibility'] = 'Playable'\n",
        "    except :\n",
        "      df.at[i, 'Check'] = 'Steam Deck Compatibility Error'\n",
        "\n",
        "    # Update Release date\n",
        "    if soup.find('div', {'class' : 'grid_content grid_date'}) is not None and df.loc[i]['Release Date'] == '' and pd.isnull(df.loc[i]['Steam Price']) :\n",
        "      df.at[i, 'Release Date'] = soup.find('div', {'class' : 'grid_content grid_date'}).text.strip()\n",
        "\n",
        "    # Update whether there is a Steam Demo\n",
        "    for b in soup.find_all('a', {'class': 'btnv6_blue_hoverfade btn_medium'}):\n",
        "      if b.has_attr('href'):\n",
        "        if 'Download Demo' in b['href']:\n",
        "          df.at[i, 'Steam Demo'] = 'x'\n",
        "    for a in soup.find_all('a', {'class': 'btn_green_steamui btn_medium'}):\n",
        "      if a.has_attr('href'):\n",
        "        if 'Download' in a['href']:\n",
        "          df.at[i, 'Steam Demo'] = 'x'\n",
        "\n",
        "    # Update Steam DB link if there isn't one\n",
        "    if df.loc[i]['Steam DB Link'] == '' :\n",
        "      steam_app_id = df.loc[i]['Steam Link'][df.loc[i]['Steam Link'].find('app/')+4:]\n",
        "      steam_app_id = steam_app_id[:steam_app_id.find('/')]\n",
        "      df.at[i, 'Steam DB Link'] = 'https://steamdb.info/app/' + steam_app_id\n",
        "\n",
        "    # Update MetaCritic Score\n",
        "    if soup.find('div', {'class' : 'score high'}) is not None :\n",
        "      df.at[i, 'Metacritic Rating (PC)'] = int(soup.find('div', {'class' : 'score high'}).text)\n",
        "\n",
        "    if df.loc[i]['GG Deals PC Link'] == '' or pd.isnull(df.loc[i]['PC Min Price']) :\n",
        "      link = 'https://gg.deals/game/' + replaceChar(df.loc[i]['Name'])\n",
        "      try :\n",
        "        getggData(i, 'PC', link)\n",
        "      except :\n",
        "        df.at[i, 'Check'] = 'GG PC Link'\n",
        "    else :\n",
        "      getggData(i, 'PC', df.loc[i]['GG Deals PC Link'])\n",
        "\n",
        "    if pd.isnull(df.loc[i]['Steam Min Price']) :\n",
        "      df.at[i, 'Steam Min Price'] = df.loc[i]['Steam Price']\n",
        "\n",
        "    if df.loc[i]['Switch Link'] == '' :\n",
        "      if requests.get('https://gg.deals/game/' + replaceChar(df.loc[i]['Name']) + '-nintendo-switch').status_code == 200 :\n",
        "        df.at[i, 'Check'] = 'Add Switch Link'\n",
        "  # -----------------------------------------------------Switch---------------------------------------------------------#\n",
        "  # If there is a Nintendo Link, populate dataframe\n",
        "  if df.loc[i]['Switch Link'] != '':\n",
        "      switch_soup = BeautifulSoup(requests.get(df.loc[i]['Switch Link']).content, 'lxml')\n",
        "      switch_dict = json.loads(switch_soup.find('script', {'id' : '__NEXT_DATA__'}).text)\n",
        "\n",
        "      # Switch sku needed to determine product to gather data from\n",
        "      sku = switch_dict['props']['pageProps']['linkedData'][0]['sku']\n",
        "      key = 'StoreProduct:{\\\"sku\\\":\\\"'+ sku + '\\\",\\\"locale\\\":\\\"en_US\\\"}'\n",
        "\n",
        "      # If name is blank, populate\n",
        "      if df.loc[i]['Name'] == '':\n",
        "        df.at[i, 'Name'] = switch_dict['props']['pageProps']['linkedData'][0]['name']\n",
        "\n",
        "      # Track price info, take old switch price for discount data frame\n",
        "      switch_old_price = float(df.loc[i]['Switch Price'])\n",
        "      if switch_dict['props']['pageProps']['initialApolloState'][key]['prices({\"personalized\":false})']['minimum'] is not None :\n",
        "        amount_off = float(switch_dict['props']['pageProps']['initialApolloState'][key]['prices({\"personalized\":false})']['minimum']['amountOff'])\n",
        "        switch_msrp = float(switch_dict['props']['pageProps']['initialApolloState'][key]['prices({\"personalized\":false})']['minimum']['regularPrice'])\n",
        "        switch_final_price = float(switch_dict['props']['pageProps']['initialApolloState'][key]['prices({\"personalized\":false})']['minimum']['finalPrice'])\n",
        "        df.at[i, 'Switch Price'] = switch_final_price\n",
        "        try :\n",
        "          df.at[i, 'Switch Discount'] = int((amount_off/switch_msrp)*100)\n",
        "        except :\n",
        "          pass\n",
        "\n",
        "      # If there is a sale, find the end date\n",
        "      sale_end_date = switch_dict['props']['pageProps']['initialApolloState'][key]['eshopDetails({\"personalized\":false})']\n",
        "      if sale_end_date is not None :\n",
        "        if sale_end_date['discountPriceEnd'] is not None :\n",
        "          sale_end_date = dt.strptime(sale_end_date['discountPriceEnd'],'%Y-%m-%dT%H:%M:%SZ')\n",
        "          df.at[i, 'Switch Sale End'] = sale_end_date.strftime('%m/%d/%Y')\n",
        "        else :\n",
        "          df.at[i, 'Switch Sale End'] = ''\n",
        "          df.at[i, 'Switch Discount'] = ''\n",
        "\n",
        "      # If 'Type' has not already been populated from Steam data pull data from Genre section of page\n",
        "      try :\n",
        "        if df.loc[i]['Type'] == '':\n",
        "          df.at[i, 'Type'] = '/'.join(k['label'] for k in switch_dict['props']['pageProps']['initialApolloState'][key]['genres'])\n",
        "      except :\n",
        "        pass\n",
        "\n",
        "      # Find the number of single system players\n",
        "      if switch_dict['props']['pageProps']['initialApolloState'][key]['playersMaxLocal'] is not None :\n",
        "        df.at[i, 'Switch Max Single System Players'] = int(switch_dict['props']['pageProps']['initialApolloState'][key]['playersMaxLocal'])\n",
        "      elif switch_dict['props']['pageProps']['initialApolloState'][key]['playersMaxLocal'] is not None:\n",
        "        df.at[i, 'Switch Max Single System Players'] = int(switch_dict['props']['pageProps']['initialApolloState'][key]['playersMax'])\n",
        "      else :\n",
        "        pass\n",
        "\n",
        "      # Get lowest price for Switch\n",
        "      if df.loc[i]['GG Deals Switch Link'] == '' :\n",
        "        start = df.loc[i]['Switch Link'].find('products/')\n",
        "        end = df.loc[i]['Switch Link'].find('-switch')\n",
        "        link = 'https://gg.deals/game/' + df.loc[i]['Switch Link'][start+9:end] + '-nintendo-switch'\n",
        "        try :\n",
        "          getggData(i, 'Switch', link)\n",
        "        except :\n",
        "          df.at[i, 'Check'] = 'GG Switch Link'\n",
        "      else :\n",
        "        getggData(i, 'Switch', df.loc[i]['GG Deals Switch Link'])\n",
        "      # If a game goes on sale or price drops add details to the discount dataframe\n",
        "      # updateDiscountDf(switch_old_price, 'Switch', i, discount_df)\n",
        "\n",
        "      # Mark if Switch is 'Cloud Version'\n",
        "      # if deku_link.find('cloud-version') > -1 :\n",
        "      #  df.at[i, 'Switch Cloud Version'] = 'x'\n",
        "  # -----------------------------------------------------XBOX---------------------------------------------------------#\n",
        "  # If there is an XBOX Link populate data, do nothing otherwise\n",
        "  if df.loc[i]['XBOX Link'] != '':\n",
        "    xbox_soup = BeautifulSoup(requests.get(df.loc[i]['XBOX Link']).content, 'lxml')\n",
        "    xbox_old_price = float(df.loc[i]['XBOX Price'])\n",
        "\n",
        "    # Prices from website\n",
        "    xbox_msrp = xbox_soup.find('span', {'class': 'Price-module__boldText___vmNHu Price-module__moreText___q5KoT'})\n",
        "    xbox_original_price = xbox_soup.find('span', {'class' : 'Price-module__originalPrice___+jfaT'})\n",
        "    xbox_final_price = xbox_soup.find('span', {'class': 'Price-module__boldText___vmNHu Price-module__moreText___q5KoT Price-module__listedDiscountPrice___67yG1'})\n",
        "\n",
        "    # Try these prices if the other ones don't work\n",
        "    xbox_msrp = xbox_soup.find('span', {'class':'Price-module__boldText___1i2Li Price-module__moreText___sNMVr'})\n",
        "    xbox_original_price = xbox_soup.find('span', {'class' : 'Price-module__originalPrice___XNCxs'})\n",
        "    xbox_final_price = xbox_soup.find('span', {'class': 'Price-module__boldText___1i2Li Price-module__moreText___sNMVr Price-module__listedDiscountPrice___A-+d5'})\n",
        "\n",
        "    # Use discount price if it is not None, otherwise use original price\n",
        "    try :\n",
        "      if xbox_final_price is None :\n",
        "        xbox_final_price = ''\n",
        "      if xbox_final_price != '' and 'for' not in xbox_final_price.text :\n",
        "        df.at[i, 'XBOX Price'] = float(xbox_final_price.text[1:].replace('+', ''))\n",
        "        xbox_original_price = float(xbox_original_price.text[1:].replace('+', ''))\n",
        "        df.at[i, 'XBOX Discount'] = int(((xbox_original_price - df.loc[i]['XBOX Price'])/xbox_original_price)*100)\n",
        "      else :\n",
        "        df.at[i, 'XBOX Price'] = float(xbox_msrp.text[1:].replace('+', '').replace('ree','0'))\n",
        "        df.at[i, 'XBOX Discount'] = ''\n",
        "    except :\n",
        "        df.at[i, 'Check'] = 'XBOX Price'\n",
        "        error = True\n",
        "\n",
        "    # If a game goes on sale or price drops add details to the discount dataframe\n",
        "    # updateDiscountDf(xbox_old_price, 'XBOX', i, discount_df)\n",
        "\n",
        "    # Update name if blank\n",
        "    if df.loc[i]['Name'] == '':\n",
        "      df.at[i, 'Name'] = xbox_soup.find('h1').text\n",
        "\n",
        "    # Find max amount of players for XBOX locally\n",
        "    for g in xbox_soup.find_all('li'):\n",
        "      if g.has_attr('class') and 'local' in g.text:\n",
        "        df.at[i, 'XBOX Max Single System Players'] = int(g.text[-2])\n",
        "      elif g.has_attr('class' and 'Single player' in g.text):\n",
        "        df.at[i, 'XBOX Max Single System Players'] = 1\n",
        "\n",
        "    # Add text to Type column if empty\n",
        "    try :\n",
        "      if df.loc[i]['Type'] == '':\n",
        "        df.at[i, 'Type'] = xbox_soup.find('div', {'class': 'typography-module__xdsSubTitle1___N02-X ProductDetailsHeader-module__productInfoLine___W-v+p'}).findChildren('span')[0].text.replace(' • ', '/')\n",
        "    except :\n",
        "      pass\n",
        "\n",
        "    # If there is a sale, find the end date\n",
        "    for b in xbox_soup.find_all('div', {'class': 'typography-module__xdsCaption___RlQY3 ProductTags-module__tagItem___9rKan'}) :\n",
        "      if 'ends in' in b['title']:\n",
        "        sale_end = int(b['title'][b['title'].find('ends') + 8:-4].strip())\n",
        "        sale_end = dt.today() + timedelta(days=sale_end)\n",
        "        df.at[i, 'XBOX Sale End'] = sale_end.strftime('%m/%d/%Y')\n",
        "\n",
        "    if df.loc[i]['XBOX Sale End'] != '':\n",
        "      if dt.today() + timedelta(hours=-7) > dt.strptime(df.loc[i]['XBOX Sale End'], '%m/%d/%Y'):\n",
        "        df.at[i, 'XBOX Sale End'] = ''\n",
        "        df.at[i, 'XBOX Discount'] = ''\n",
        "\n",
        "    # Check if game is included in XBOX Game Pass\n",
        "    for t in xbox_soup.find_all('h2', {'class' : 'SizeAdaptiveItemSliderChannel-module__channelTitleText___SexCs typography-module__xdsH6___c1AoA'}):\n",
        "      if t.text == 'Included in these subscriptions' :\n",
        "        df.at[i, 'XBOX Game Pass Current'] = 'x'\n",
        "        df.at[i, 'Check'] = 'Game Pass Current'\n",
        "\n",
        "    # Check GG Deals for best lowest official price on XBOX\n",
        "    if df.loc[i]['GG Deals XBOX Link'] == '' :\n",
        "      getXboxLink(i)\n",
        "    else :\n",
        "      getggData(i, 'XBOX', df.loc[i]['GG Deals XBOX Link'])\n",
        "  # -----------------------------------------------------Comparison---------------------------------------------------------#\n",
        "  # Determine system preference\n",
        "  if df.loc[i]['Steam Deck Compatibility'] == 'Unsupported':\n",
        "    df.at[i, 'Manual Steam Deck Verification'] = 'N'\n",
        "    if df.loc[i]['Switch Cloud Version'] != 'x' and df.loc[i]['Switch Link'] != '':\n",
        "      df.at[i, 'Pref'] = 'Switch'\n",
        "    elif df.loc[i]['XBOX Link'] != '':\n",
        "      df.at[i, 'Pref'] = 'XBOX'\n",
        "    else:\n",
        "      df.at[i, 'Pref'] = 'Steam'\n",
        "  elif df.loc[i]['Steam Deck Compatibility'] == 'Verified' or df.loc[i]['Manual Steam Deck Verification'] == 'Y' :\n",
        "    if df.loc[i]['Switch Max Single System Players'] != '':\n",
        "      if df.loc[i]['Switch Max Single System Players'] > 1:\n",
        "        df.at[i, 'Pref'] = 'Switch'\n",
        "      elif df.loc[i]['XBOX Max Single System Players'] != '':\n",
        "        if df.loc[i]['XBOX Max Single System Players'] > 1:\n",
        "          df.at[i, 'Pref'] = 'XBOX'\n",
        "      else:\n",
        "        df.at[i, 'Pref'] = 'Steam'\n",
        "    elif df.loc[i]['XBOX Max Single System Players'] != '':\n",
        "      if df.loc[i]['XBOX Max Single System Players'] > 1:\n",
        "        df.at[i, 'Pref'] = 'XBOX'\n",
        "      else:\n",
        "        df.at[i, 'Pref'] = 'Steam'\n",
        "    else:\n",
        "      df.at[i, 'Pref'] = 'Steam'\n",
        "  elif df.loc[i]['Switch Cloud Version'] == 'x' and df.loc[i]['XBOX Link'] != '':\n",
        "      df.at[i, 'Pref'] = 'XBOX'\n",
        "  elif df.loc[i]['Switch Link'] != '':\n",
        "    df.at[i, 'Pref'] = 'Switch'\n",
        "  elif df.loc[i]['XBOX Link'] != '':\n",
        "    df.at[i, 'Pref'] = 'XBOX'\n",
        "  else:\n",
        "    df.at[i, 'Pref'] = 'Steam'\n",
        "\n",
        "  # Find the minimum price from all systems and set the field for system with current lowest price\n",
        "  df.at[i, 'Current Lowest Price'] = df.loc[i, 'Steam Price' : 'XBOX Price'].min()\n",
        "  plat = pd.to_numeric(df.loc[i, 'Steam Price' : 'XBOX Price']).idxmin()\n",
        "  if df.loc[i]['Current Lowest Price'] == df.loc[i][df.loc[i]['Pref'] + ' Price']:\n",
        "    df.at[i, 'Current Lowest Price System'] = df.loc[i]['Pref']\n",
        "  elif isinstance(plat, str) :\n",
        "    df.at[i, 'Current Lowest Price System'] = plat[:plat.find(' Price')]\n",
        "\n",
        "  # Find the highest discount % and day that sale ends\n",
        "  if df.loc[i]['Steam Sale End'] != '' or df.loc[i]['Switch Sale End'] != '' or df.loc[i]['XBOX Sale End'] != '':\n",
        "    df.at[i, 'Current Highest Discount %'] = df.loc[i][df.loc[i]['Current Lowest Price System'] + ' Discount']\n",
        "    df.at[i, 'Current Lowest Price Sale End'] = df.loc[i][df.loc[i]['Current Lowest Price System'] + ' Sale End']\n",
        "  else:\n",
        "    df.at[i, 'Current Lowest Price Sale End'] = ''\n",
        "    df.at[i, 'Current Highest Discount %'] = np.nan\n",
        "\n",
        "  # Searches Deku Deals for minimum price for XBOX and Switch\n",
        "  # if pd.isnull(df.loc[i]['Deku Min Price']) and (df.loc[i]['Switch Link'] != '' or df.loc[i]['XBOX Link'] != ''):\n",
        "  #   if df.loc[i]['Deku Link'] == '' :\n",
        "  #     if df.loc[i]['Switch Link'] != '' :\n",
        "  #       start = df.loc[i]['Switch Link'].find('products/')\n",
        "  #       deku_link = 'https://www.dekudeals.com/items/' + df.loc[i]['Switch Link'][start+9:-8]\n",
        "  #       deku_link2 = 'https://www.dekudeals.com/items/' + df.loc[i]['Switch Link'][start+9]\n",
        "  #     if df.loc[i]['XBOX Link'] != '' :\n",
        "  #       deku_link3 = 'https://www.dekudeals.com/items/' + df.loc[i]['XBOX Link'][39:df.loc[i]['XBOX Link'].rfind('/')]\n",
        "  #     if df.loc[i]['Switch Link'] == '' :\n",
        "  #       deku_link = deku_link3\n",
        "  #   else :\n",
        "  #     deku_link = df.loc[i]['Deku Link']\n",
        "  #     deku_link2 = deku_link\n",
        "  #     deku_link3 = deku_link\n",
        "  #   deku_soup = BeautifulSoup(requests.get(deku_link).content,'lxml')\n",
        "  #   if deku_soup.find('main', {'class' : 'container-fluidish mb-4 search-container'}) is not None :\n",
        "  #     deku_soup = BeautifulSoup(requests.get(deku_link2).content,'lxml')\n",
        "  #     if deku_soup.find('main', {'class' : 'container-fluidish mb-4 search-container'}) is not None :\n",
        "  #       deku_soup = BeautifulSoup(requests.get(deku_link3).content,'lxml')\n",
        "  #       getDekuData(deku_soup, i)\n",
        "  #       df.at[i,'Deku Link'] = deku_link3\n",
        "  #     else :\n",
        "  #       getDekuData(deku_soup, i)\n",
        "  #       df.at[i, 'Deku Link'] = deku_link2\n",
        "  #   else :\n",
        "  #     getDekuData(deku_soup, i)\n",
        "  #     df.at[i, 'Deku Link'] = deku_link\n",
        "\n",
        "  if df.loc[i]['Min Price Platform'] == '' :\n",
        "    min = pd.to_numeric(df.loc[i, 'Steam Min Price' : 'XBOX Min Price']).idxmin()\n",
        "    if isinstance(min, str) :\n",
        "      df.at[i, 'Min Price Platform'] = min[:min.find(' Min')]\n",
        "\n",
        "  # Update if game has been removed from Game Pass, given away from Epic, Amazon or GOG\n",
        "  if merged_df.loc[i]['Status'] == 'Active' :\n",
        "    df.at[i, 'XBOX Game Pass Current'] = 'x'\n",
        "    df.at[i, 'Check'] = 'Game Pass Current'\n",
        "    df.at[i, 'Min Price Platform'] = 'XBOX Game Pass'\n",
        "  elif pd.notnull(merged_df.loc[i]['Removed']) :\n",
        "    df.at[i, 'XBOX Game Pass Removal Date'] = merged_df.loc[i]['Removed']\n",
        "    df.at[i, 'Check'] = 'Game Pass Removed'\n",
        "    df.at[i, 'XBOX Game Pass Current'] = ''\n",
        "    df.at[i, 'Min Price Platform'] = 'XBOX Game Pass'\n",
        "  if pd.notnull(merged_df.loc[i]['Name_epic']) :\n",
        "    df.at[i, 'Giveaway'] = 'x'\n",
        "    df.at[i, 'Check'] = merged_df.loc[i]['Where'] + ' Giveaway'\n",
        "    df.at[i, 'Min Price Platform'] = merged_df.loc[i]['Where'] + ' Giveaway'\n",
        "    if merged_df.loc[i]['Date'] != '' :\n",
        "      df.at[i, 'Giveaway Date'] = merged_df.loc[i]['Date']\n",
        "    else :\n",
        "      df.at[i, 'Giveaway Date'] = merged_df.loc[i]['Year']\n",
        "    if merged_df.loc[i]['Metacritic PC Score'] not in ('N/A', '') and df.loc[i]['Metacritic Rating (PC)'] == '' :\n",
        "      df.at[i, 'Metacritic Rating (PC)'] = merged_df.loc[i]['Metacritic PC Score']\n",
        "\n",
        "  # Update lowest price on record if it's lower than the current one\n",
        "  df.at[i, 'Min Price'] = df.loc[i, 'Steam Min Price' : 'XBOX Min Price'].min()\n",
        "  if df.loc[i]['XBOX Game Pass Current'] == 'x' or df.loc[i]['Giveaway'] == 'x' or df.loc[i]['XBOX Game Pass Removal Date'] != '':\n",
        "    df.at[i, 'Min Price'] = 0\n",
        "  if df.loc[i]['Current Lowest Price'] != '' :\n",
        "    if df.loc[i]['Current Lowest Price'] < df.loc[i]['Min Price'] :\n",
        "      df.at[i, 'Min Price'] = df.loc[i]['Current Lowest Price']\n",
        "      df.at[i, 'Min Price Platform'] = df.loc[i]['Current Lowest Price System']\n",
        "      df.at[i, df.loc[i]['Current Lowest Price System'] + ' Min Price'] = df.loc[i]['Current Lowest Price']\n",
        "\n",
        "  if pd.isnull(df.loc[i]['Current Highest Discount %']) or df.loc[i]['Current Highest Discount %'] == '' :\n",
        "    df.at[i, 'Current Highest Discount %'] = 0\n",
        "\n",
        "  if df.loc[i]['How Long to Beat'] != '' :\n",
        "    df.at[i, 'Dollar per Hour'] = round(float(df.loc[i]['Current Lowest Price'] / df.loc[i]['How Long to Beat']), 2)\n",
        "\n",
        "  if df.loc[i]['Dollar per Hour'] != '' :\n",
        "    if df.loc[i]['Dollar per Hour'] <= 1 :\n",
        "      df.at[i, 'DPH Worth'] = 'Y'\n",
        "    else :\n",
        "      df.at[i, 'DPH Worth'] = 'N'\n",
        "\n",
        "  # If the lowest price is at it's all time low, the system is correct then check to see if you should buy it\n",
        "  if df.loc[i]['Min Price Platform'] in ('XBOX Game Pass', 'Epic Giveaway', 'Amazon Giveaway', 'GOG Giveaway'):\n",
        "    pass\n",
        "  elif df.loc[i]['Pref'] == 'Steam' and df.loc[i]['Current Lowest Price'] == df.loc[i]['Min Price'] and (df.loc[i]['Current Highest Discount %'] >= 50 or df.loc[i]['DPH Worth'] == 'Y') :\n",
        "    if df.loc[i]['Current Lowest Price System'] != 'Steam' :\n",
        "      if df.loc[i]['Current Lowest Price System'] == 'XBOX' :\n",
        "        df.at[i, 'Check'] = 'Buy ' + df.loc[i]['Current Lowest Price System'] + ' (not pref)'\n",
        "      elif df.loc[i]['Switch Cloud Version'] != 'x' :\n",
        "        df.at[i, 'Check'] = 'Buy ' + df.loc[i]['Current Lowest Price System'] + ' (not pref)'\n",
        "    else :\n",
        "      df.at[i, 'Check'] = 'Buy Steam'\n",
        "  elif df.loc[i]['Pref'] != 'Steam' and df.loc[i]['Current Lowest Price'] == df.loc[i]['Min Price'] and (df.loc[i]['Current Highest Discount %'] >= 50 or df.loc[i]['DPH Worth'] == 'Y') :\n",
        "    if df.loc[i]['Current Lowest Price System'] == 'Steam' and df.loc[i]['Manual Steam Deck Verification'] == 'Y':\n",
        "      df.at[i, 'Check'] = 'Buy Steam (not pref)'\n",
        "    elif df.loc[i]['Current Lowest Price System'] == 'Steam' and df.loc[i]['Manual Steam Deck Verification'] not in ['Y','N']:\n",
        "      df.at[i, 'Check'] = 'Steam Deck Compatibility'\n",
        "    elif df.loc[i]['Switch Cloud Version'] == 'x' and df.loc[i]['Current Lowest Price System'] == 'Switch':\n",
        "      pass\n",
        "    elif df.loc[i]['Current Lowest Price System'] == 'Steam' and df.loc[i]['Manual Steam Deck Verification'] == 'N':\n",
        "      pass\n",
        "    else :\n",
        "      df.at[i, 'Check'] = df.at[i, 'Check'] = 'Buy ' + df.loc[i]['Current Lowest Price System']\n",
        "\n",
        "\n",
        "# Fill nulls with blanks and convert Priority to string because G Sheets/Gspread can't process numpy data types\n",
        "df = df.fillna('')\n",
        "df = df.astype({'Priority': 'str'})\n",
        "\n",
        "# Create a list of lists of the data frame so the sheet can update\n",
        "arr = []\n",
        "arr.append(list(df.columns.array))\n",
        "for i in df.index:\n",
        "  arr.append(list(df.iloc[i].array))\n",
        "\n",
        "# Updates entire sheet with list of lists arr\n",
        "sheet.update('A1', arr)\n",
        "\n",
        "# Send SMS message on discounts and whether there was an error\n",
        "# try :\n",
        "#   if discount_df.empty == False:\n",
        "#     body = \"Here is the list of discounted video games from the most recent script run: \" + \"\\n\" * 2 + \"\\n\".join(\" - \".join(map(str, xs)) for xs in discount_df.itertuples(index=False))\n",
        "#     message = client.messages.create(\n",
        "#       body=body,\n",
        "#       from_='+' + str(twil_data.loc[0]['from_phone_num']),\n",
        "#       to='+' + str(twil_data.loc[0]['to_phone_num']))\n",
        "\n",
        "#   if error is True:\n",
        "#     message = client.messages \\\n",
        "#       .create(\n",
        "#       body=\"The video game script has run with an error.\",\n",
        "#       from_='+' + str(twil_data.loc[0]['from_phone_num']),\n",
        "#       to='+' + str(twil_data.loc[0]['to_phone_num']))\n",
        "#   else:\n",
        "#     message = client.messages \\\n",
        "#       .create(\n",
        "#       body=\"The video game script run has finished with no errors.\",\n",
        "#       from_='+' + str(twil_data.loc[0]['from_phone_num']),\n",
        "#       to='+' + str(twil_data.loc[0]['to_phone_num']),)\n",
        "# except :\n",
        "#   print('\\nCannot send script log SMS')"
      ]
    },
    {
      "cell_type": "code",
      "execution_count": null,
      "metadata": {
        "id": "V2sr7Xa5o6RW",
        "colab": {
          "base_uri": "https://localhost:8080/"
        },
        "outputId": "63c0d2ff-ac6d-4865-f371-ef32e172d9ec"
      },
      "outputs": [
        {
          "output_type": "execute_result",
          "data": {
            "text/plain": [
              "404"
            ]
          },
          "metadata": {},
          "execution_count": 2
        }
      ],
      "source": []
    },
    {
      "cell_type": "code",
      "source": [],
      "metadata": {
        "colab": {
          "base_uri": "https://localhost:8080/"
        },
        "id": "GTuy8kzFMx9P",
        "outputId": "cb64bd6a-f1f5-4509-9edd-ca354de93204",
        "collapsed": true
      },
      "execution_count": null,
      "outputs": [
        {
          "output_type": "stream",
          "name": "stderr",
          "text": [
            "<ipython-input-21-c7a2451658b7>:12: DeprecationWarning: The order of arguments in worksheet.update() has changed. Please pass values first and range_name secondor used named arguments (range_name=, values=)\n",
            "  sheet.update('A1', arr)\n"
          ]
        },
        {
          "output_type": "execute_result",
          "data": {
            "text/plain": [
              "{'spreadsheetId': '1Wt1IuEkaQY-0ajwGR2SemfKuVJ4HO5D41rJHUXm-lQY',\n",
              " 'updatedRange': \"'Video Games'!A1:BE634\",\n",
              " 'updatedRows': 634,\n",
              " 'updatedColumns': 57,\n",
              " 'updatedCells': 36138}"
            ]
          },
          "metadata": {},
          "execution_count": 21
        }
      ]
    }
  ],
  "metadata": {
    "colab": {
      "provenance": [],
      "authorship_tag": "ABX9TyOfUZ5ieFHdCGLcD+Hi4BQx",
      "include_colab_link": true
    },
    "kernelspec": {
      "display_name": "Python 3",
      "name": "python3"
    },
    "language_info": {
      "name": "python"
    }
  },
  "nbformat": 4,
  "nbformat_minor": 0
}